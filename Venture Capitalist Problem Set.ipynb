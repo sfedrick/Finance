{
 "cells": [
  {
   "cell_type": "code",
   "execution_count": 1,
   "metadata": {},
   "outputs": [],
   "source": [
    "from IPython.display import display, Markdown"
   ]
  },
  {
   "cell_type": "markdown",
   "metadata": {},
   "source": [
    "# Notes \n",
    "- Ken Montgomery , founder of XL NanoDevices , invested \\$ 50,000\n",
    "- Steve Moore, invested \\$25,000\n",
    "- total shares 1,000,000\n",
    "- Ken recieved 750,000 shares\n",
    "- Steve recieve 250,000 shares\n",
    "- Angel investor Meg invested \\$300,000\n",
    "- Convertible Notes\n",
    "     - compounding interest rate of  6\\% per annum\n",
    "     - duration of 24 months occurs in 2023; \n",
    "     - conversion discount of 20\\% tied to the Series A share price\n",
    "     - \\$1,000,000 minimum future financing for conversion of the note\n",
    "     - a pre-money valuation cap on the note of \\$6,000,000; and\n",
    "     - if XL is acquired prior to a Series A financing, Meg would receive 150 \\% of the note’s principal investment amount.\n",
    "- Timberlake series A and B\n",
    "    - Series A, round of financing of \\$3,000,000\n",
    "    - Series B, round of financing of \\$7,500,000\n",
    "    - Timberlake’s target rate of return is 50 \\% per annum compounded for the Series A investment.\n",
    "    - They desire a target rate of return of 40 \\% p.a. (compounded) for the Series B round.\n",
    "-Buy out\n",
    "    - \\$15,000,000 in 5 years 2026\n",
    "    - price revenue ratio  about 5:1"
   ]
  },
  {
   "cell_type": "markdown",
   "metadata": {},
   "source": [
    "# Question 1"
   ]
  },
  {
   "cell_type": "markdown",
   "metadata": {},
   "source": [
    "### Question 1A"
   ]
  },
  {
   "cell_type": "markdown",
   "metadata": {},
   "source": [
    "What % of the company must Timberlake acquire in April 2021 if they fund the $3,000,000 Series A round?"
   ]
  },
  {
   "cell_type": "markdown",
   "metadata": {},
   "source": [
    "P/R Ratio 5:1 : Terminal Value= $V_{N}$ =P/R X RN"
   ]
  },
  {
   "cell_type": "code",
   "execution_count": 2,
   "metadata": {},
   "outputs": [
    {
     "data": {
      "text/markdown": [
       "Terminal Value= $75000000"
      ],
      "text/plain": [
       "<IPython.core.display.Markdown object>"
      ]
     },
     "metadata": {},
     "output_type": "display_data"
    }
   ],
   "source": [
    "#terminally Value\n",
    "RN=15000000\n",
    "VN=5*RN\n",
    "display(Markdown(r'Terminal Value= $'+rf'{VN}'))"
   ]
  },
  {
   "cell_type": "markdown",
   "metadata": {},
   "source": [
    "Series A:\n",
    "\n",
    "$VI_{N}=I_{0}\\times(1+ROI)^{N}$"
   ]
  },
  {
   "cell_type": "code",
   "execution_count": 3,
   "metadata": {},
   "outputs": [
    {
     "data": {
      "text/markdown": [
       "Series A $VI_{N}$= $22781250.0"
      ],
      "text/plain": [
       "<IPython.core.display.Markdown object>"
      ]
     },
     "metadata": {},
     "output_type": "display_data"
    }
   ],
   "source": [
    "TimbFundSeriesA=3000000\n",
    "ROI=0.5\n",
    "VINA=TimbFundSeriesA*((1+ROI)**5)\n",
    "display(Markdown(r'Series A $VI_{N}$= $'+rf'{VINA}'))\n"
   ]
  },
  {
   "cell_type": "markdown",
   "metadata": {},
   "source": [
    " Timberlake Ownership in series A is found by $\\%Ownership_{A}$=\n",
    "$\\frac{VI_{N}}{\\text{Terminal Value}}$"
   ]
  },
  {
   "cell_type": "code",
   "execution_count": 4,
   "metadata": {},
   "outputs": [
    {
     "data": {
      "text/markdown": [
       "Series A Timberlak $\\%Ownership_{A}$= 30.375000000000004%"
      ],
      "text/plain": [
       "<IPython.core.display.Markdown object>"
      ]
     },
     "metadata": {},
     "output_type": "display_data"
    }
   ],
   "source": [
    "TimbOwnershipA=VINA/VN\n",
    "display(Markdown(r'Series A Timberlak $\\%Ownership_{A}$= ' +rf'{TimbOwnershipA*100}'+r'%'))"
   ]
  },
  {
   "cell_type": "markdown",
   "metadata": {},
   "source": [
    "Series B:\n",
    "\n",
    "$VI_{N}=I_{0}\\times(1+ROI)^{N}$"
   ]
  },
  {
   "cell_type": "code",
   "execution_count": 5,
   "metadata": {
    "scrolled": true
   },
   "outputs": [
    {
     "data": {
      "text/markdown": [
       "Series B $VI_{N}$= $20579999.999999996"
      ],
      "text/plain": [
       "<IPython.core.display.Markdown object>"
      ]
     },
     "metadata": {},
     "output_type": "display_data"
    }
   ],
   "source": [
    "TimbFundSeriesB=7500000\n",
    "ROI=0.4\n",
    "VINB=TimbFundSeriesB*((1+ROI)**3)\n",
    "display(Markdown(r'Series B $VI_{N}$= $'+rf'{VINB}'))\n"
   ]
  },
  {
   "cell_type": "code",
   "execution_count": 6,
   "metadata": {},
   "outputs": [
    {
     "data": {
      "text/markdown": [
       "Series B Timberlak $\\%Ownership_{B}$= 27.439999999999998%"
      ],
      "text/plain": [
       "<IPython.core.display.Markdown object>"
      ]
     },
     "metadata": {},
     "output_type": "display_data"
    }
   ],
   "source": [
    "TimbOwnershipB=VINB/VN\n",
    "display(Markdown(r'Series B Timberlak $\\%Ownership_{B}$= ' +rf'{TimbOwnershipB*100}'+r'%'))"
   ]
  },
  {
   "cell_type": "markdown",
   "metadata": {},
   "source": [
    "Percent Acquired in Series A round \n",
    "\n",
    "$\\%Acquired_{A}=\\frac{Ownership_{A}}{Retention}=\n",
    "\\frac{Ownership_{A}}{1-Acquired_{B}}$\n",
    "\n",
    "$\\%Acquired_{B}=\\frac{Ownership_{B}}{Retention}=\n",
    "\\frac{Ownership_{B}}{1-0}$"
   ]
  },
  {
   "cell_type": "code",
   "execution_count": 7,
   "metadata": {},
   "outputs": [
    {
     "data": {
      "text/markdown": [
       "Series A Retention Timberlake $\\%Ownership_{A}$= 41.861907386990076%"
      ],
      "text/plain": [
       "<IPython.core.display.Markdown object>"
      ]
     },
     "metadata": {},
     "output_type": "display_data"
    },
    {
     "data": {
      "text/markdown": [
       "Series B Retention Timberlake $\\%Ownership_{B}$= 27.439999999999998%"
      ],
      "text/plain": [
       "<IPython.core.display.Markdown object>"
      ]
     },
     "metadata": {},
     "output_type": "display_data"
    }
   ],
   "source": [
    "RetentionTimbOwnershipA=TimbOwnershipA/(1-TimbOwnershipB)\n",
    "RetentionTimbOwnershipB=TimbOwnershipB/(1-0)\n",
    "display(Markdown(r'Series A Retention Timberlake $\\%Ownership_{A}$= ' +rf'{RetentionTimbOwnershipA*100}'+r'%'))\n",
    "display(Markdown(r'Series B Retention Timberlake $\\%Ownership_{B}$= ' +rf'{RetentionTimbOwnershipB*100}'+r'%'))"
   ]
  },
  {
   "cell_type": "markdown",
   "metadata": {},
   "source": [
    "How many new shares of XL stock should they acquire?  "
   ]
  },
  {
   "cell_type": "code",
   "execution_count": 8,
   "metadata": {},
   "outputs": [
    {
     "data": {
      "text/markdown": [
       "Shares they need in the series A round= 720042.6691952115"
      ],
      "text/plain": [
       "<IPython.core.display.Markdown object>"
      ]
     },
     "metadata": {},
     "output_type": "display_data"
    }
   ],
   "source": [
    "originalshares=1000000\n",
    "SharesSeriesA=(RetentionTimbOwnershipA/(1-RetentionTimbOwnershipA))*originalshares\n",
    "display(Markdown(r'Shares they need in the series A round= ' +rf'{SharesSeriesA}')) "
   ]
  },
  {
   "cell_type": "markdown",
   "metadata": {},
   "source": [
    "What should be the price per share?  "
   ]
  },
  {
   "cell_type": "markdown",
   "metadata": {},
   "source": [
    "$\\frac{Price}{share}=\\frac{Investment}{Shares Series A}$"
   ]
  },
  {
   "cell_type": "code",
   "execution_count": 9,
   "metadata": {},
   "outputs": [
    {
     "data": {
      "text/markdown": [
       "Price per share= 4.16641975308642"
      ],
      "text/plain": [
       "<IPython.core.display.Markdown object>"
      ]
     },
     "metadata": {},
     "output_type": "display_data"
    }
   ],
   "source": [
    "SeriesAPrice_Share=TimbFundSeriesA/SharesSeriesA\n",
    "\n",
    "display(Markdown(r'Price per share= ' +rf'{SeriesAPrice_Share}')) "
   ]
  },
  {
   "cell_type": "markdown",
   "metadata": {},
   "source": [
    "What are the pre-money and post-money valuations of this Series A round? \n"
   ]
  },
  {
   "cell_type": "markdown",
   "metadata": {},
   "source": [
    "Post–Money Valuation=$\\frac{Investment}{\\% Ownership}$ \n",
    "\n",
    "Pre–Money Valuation=Post–Money Valuation-Investment\n"
   ]
  },
  {
   "cell_type": "code",
   "execution_count": 10,
   "metadata": {
    "scrolled": true
   },
   "outputs": [
    {
     "data": {
      "text/markdown": [
       "Post Money Valuation= 7166419.75308642"
      ],
      "text/plain": [
       "<IPython.core.display.Markdown object>"
      ]
     },
     "metadata": {},
     "output_type": "display_data"
    },
    {
     "data": {
      "text/markdown": [
       "Pre Money Valuation= 4166419.75308642"
      ],
      "text/plain": [
       "<IPython.core.display.Markdown object>"
      ]
     },
     "metadata": {},
     "output_type": "display_data"
    }
   ],
   "source": [
    "SeriesAPostMoneyValuation=TimbFundSeriesA/RetentionTimbOwnershipA\n",
    "SeriesAPreMoneyValuation=SeriesAPostMoneyValuation-TimbFundSeriesA\n",
    "display(Markdown(r'Post Money Valuation= ' +rf'{SeriesAPostMoneyValuation}')) \n",
    "display(Markdown(r'Pre Money Valuation= ' +rf'{SeriesAPreMoneyValuation}')) "
   ]
  },
  {
   "cell_type": "markdown",
   "metadata": {},
   "source": [
    "### Question 1b: \n",
    "How many shares of XL stock will Meg acquire at the time of conversion of her convertible note?  "
   ]
  },
  {
   "cell_type": "markdown",
   "metadata": {},
   "source": [
    "$VI_{Meg}=I_{0}\\times(1+InterestRate)^{N}$ \n",
    "\n",
    "$\\%Ownership=\\frac{VI_{Meg}}{Post Money Valuation} \\text{ or } \\frac{VI_{Meg}}{Post Money Valuation Cap}$\n",
    "\n",
    "$(Post-Money Valuation)_{Note}=(Pre-Money Valuationn)_{Series A}\\times(1-Discount)$\n",
    "\n",
    "$Meg New Shares=\\frac{\\%Ownership_{Meg}}{1-\\%Ownership_{Meg}}*\\text{Series A Shares}$\n",
    "\n",
    "$\\frac{Price}{share}=\\frac{\\text{Meg Initial Investment}}{\\text{Meg New Shares}}$\n",
    "\n",
    "We will use the Post Money Valuation Cap to determine Meg's  percent ownership because series A passed the valuation cap"
   ]
  },
  {
   "cell_type": "code",
   "execution_count": 11,
   "metadata": {},
   "outputs": [
    {
     "data": {
      "text/markdown": [
       "Meg initial investment= 300000"
      ],
      "text/plain": [
       "<IPython.core.display.Markdown object>"
      ]
     },
     "metadata": {},
     "output_type": "display_data"
    },
    {
     "data": {
      "text/markdown": [
       "Meg Investment after interest= 337080.00000000006"
      ],
      "text/plain": [
       "<IPython.core.display.Markdown object>"
      ]
     },
     "metadata": {},
     "output_type": "display_data"
    },
    {
     "data": {
      "text/markdown": [
       "Convertible note valuation= 3333135.802469136"
      ],
      "text/plain": [
       "<IPython.core.display.Markdown object>"
      ]
     },
     "metadata": {},
     "output_type": "display_data"
    },
    {
     "data": {
      "text/markdown": [
       "Meg Ownership = 0.10112999288846747"
      ],
      "text/plain": [
       "<IPython.core.display.Markdown object>"
      ]
     },
     "metadata": {},
     "output_type": "display_data"
    },
    {
     "data": {
      "text/markdown": [
       "Meg Shares = 112507.91781721913"
      ],
      "text/plain": [
       "<IPython.core.display.Markdown object>"
      ]
     },
     "metadata": {},
     "output_type": "display_data"
    },
    {
     "data": {
      "text/markdown": [
       "Meg Price per Share = 2.9960558024691357"
      ],
      "text/plain": [
       "<IPython.core.display.Markdown object>"
      ]
     },
     "metadata": {},
     "output_type": "display_data"
    }
   ],
   "source": [
    "MegInvestment=300000\n",
    "ConvertibleNoteInterest=0.06\n",
    "ConvertibleYears=2\n",
    "ConvertibleNoteCap=6000000\n",
    "VIMeg=MegInvestment*(1+ConvertibleNoteInterest)**ConvertibleYears\n",
    "\n",
    "ConvertibleDiscount=0.20\n",
    "ConvertibleNoteValuation=SeriesAPreMoneyValuation*(1-ConvertibleDiscount)\n",
    "MegOwnerShip=VIMeg/ConvertibleNoteValuation\n",
    "MegShares=(MegOwnerShip/(1-MegOwnerShip))*(1000000)\n",
    "MegPrice_Share=VIMeg/MegShares\n",
    "display(Markdown(r'Meg initial investment= ' +rf'{MegInvestment}')) \n",
    "display(Markdown(r'Meg Investment after interest= ' +rf'{VIMeg}')) \n",
    "display(Markdown(r'Convertible note valuation= ' +rf'{ConvertibleNoteValuation}'))\n",
    "display(Markdown(r'Meg Ownership = ' +rf'{MegOwnerShip}')) \n",
    "display(Markdown(r'Meg Shares = ' +rf'{MegShares}')) \n",
    "display(Markdown(r'Meg Price per Share = ' +rf'{MegPrice_Share}')) \n"
   ]
  },
  {
   "cell_type": "markdown",
   "metadata": {},
   "source": [
    "Does the valuation cap on the convertible note affect the number of shares Meg acquires?  Explain. \\\n",
    "It does not come into play because the premoney valuation is less than 6 million."
   ]
  },
  {
   "cell_type": "markdown",
   "metadata": {},
   "source": [
    "### Question #1c.  \n",
    "What  \\%  of  the  company  must  Timberlake  acquire  in  April  2023  if  they  fund  the  full  $7,500,000 Series B round?  \n"
   ]
  },
  {
   "cell_type": "markdown",
   "metadata": {},
   "source": [
    "Series B:\n",
    "\n",
    "$VI_{N}=I_{0}\\times(1+ROI)^{N}$"
   ]
  },
  {
   "cell_type": "code",
   "execution_count": 12,
   "metadata": {
    "scrolled": true
   },
   "outputs": [
    {
     "data": {
      "text/markdown": [
       "Series B $VI_{N}$= $20579999.999999996"
      ],
      "text/plain": [
       "<IPython.core.display.Markdown object>"
      ]
     },
     "metadata": {},
     "output_type": "display_data"
    }
   ],
   "source": [
    "TimbFundSeriesB=7500000\n",
    "ROI=0.4\n",
    "VINB=TimbFundSeriesB*((1+ROI)**3)\n",
    "display(Markdown(r'Series B $VI_{N}$= $'+rf'{VINB}'))\n"
   ]
  },
  {
   "cell_type": "code",
   "execution_count": 13,
   "metadata": {},
   "outputs": [
    {
     "data": {
      "text/markdown": [
       "Series B Timberlak $\\%Ownership_{B}$= 27.439999999999998%"
      ],
      "text/plain": [
       "<IPython.core.display.Markdown object>"
      ]
     },
     "metadata": {},
     "output_type": "display_data"
    }
   ],
   "source": [
    "TimbOwnershipB=VINB/VN\n",
    "display(Markdown(r'Series B Timberlak $\\%Ownership_{B}$= ' +rf'{TimbOwnershipB*100}'+r'%'))"
   ]
  },
  {
   "cell_type": "markdown",
   "metadata": {},
   "source": [
    "How many new shares of XL stock should they acquire?  "
   ]
  },
  {
   "cell_type": "markdown",
   "metadata": {},
   "source": [
    "$\\text{New Shares} _{seriesA}=\\frac{\\%Ownership_{seriesARetention}}{1-\\%Ownership_{seriesARetention}}\\times(\\text{original shares}+\\text{angel investor shares})$\n",
    "$\\text{New Shares} _{seriesB}=\\frac{\\%Ownership_{seriesBRetention}}{1-\\%Ownership_{seriesBRetention}}\\times(\\text{original shares}+\\text{angel investor shares}+\\text{New Shares} _{seriesA})$"
   ]
  },
  {
   "cell_type": "code",
   "execution_count": 14,
   "metadata": {},
   "outputs": [
    {
     "data": {
      "text/markdown": [
       "New Shares Series A=801053.1706459175"
      ],
      "text/plain": [
       "<IPython.core.display.Markdown object>"
      ]
     },
     "metadata": {},
     "output_type": "display_data"
    },
    {
     "data": {
      "text/markdown": [
       "New Shares Series B=723650.9959678674"
      ],
      "text/plain": [
       "<IPython.core.display.Markdown object>"
      ]
     },
     "metadata": {},
     "output_type": "display_data"
    }
   ],
   "source": [
    "NewSharesA=(RetentionTimbOwnershipA/(1-RetentionTimbOwnershipA))*(originalshares+ MegShares)\n",
    "NewSharesB=(RetentionTimbOwnershipB/(1-RetentionTimbOwnershipB))*(originalshares+ MegShares+NewSharesA)\n",
    "display(Markdown(r'New Shares Series A='+rf'{NewSharesA}'))\n",
    "display(Markdown(r'New Shares Series B='+rf'{NewSharesB}'))\n",
    "\n"
   ]
  },
  {
   "cell_type": "markdown",
   "metadata": {},
   "source": [
    "Series B price per share\n",
    "and Post money Valuation"
   ]
  },
  {
   "cell_type": "code",
   "execution_count": 15,
   "metadata": {},
   "outputs": [
    {
     "data": {
      "text/markdown": [
       "Price per share series B=10.36411203990525"
      ],
      "text/plain": [
       "<IPython.core.display.Markdown object>"
      ]
     },
     "metadata": {},
     "output_type": "display_data"
    },
    {
     "data": {
      "text/markdown": [
       "Series B Valuation=27332361.516034987"
      ],
      "text/plain": [
       "<IPython.core.display.Markdown object>"
      ]
     },
     "metadata": {},
     "output_type": "display_data"
    }
   ],
   "source": [
    "\n",
    "SeriesBPrice_Share=TimbFundSeriesB/NewSharesB\n",
    "SeriesBValuation=TimbFundSeriesB/RetentionTimbOwnershipB\n",
    "display(Markdown(r'Price per share series B='+rf'{SeriesBPrice_Share}'))\n",
    "display(Markdown(r'Series B Valuation='+rf'{SeriesBValuation}'))"
   ]
  },
  {
   "cell_type": "markdown",
   "metadata": {},
   "source": [
    "# Question 2"
   ]
  },
  {
   "cell_type": "markdown",
   "metadata": {},
   "source": [
    "At  the  planned  “liquidity  event”  in  April  2026,  what  will  Ken’s  shares  in  XL  be  worth? \n"
   ]
  },
  {
   "cell_type": "markdown",
   "metadata": {},
   "source": [
    "Using  $\\frac{\\text(Value of Company)}{\\text{Total Number of Shares}}=\\frac{\\text{PR Ratio}\\times\\text{Revenue}}{\\text{Total Number of Shares}} \\newline \\& \\newline\n",
    "\\text{Initial Price per share}=\\frac{Investment}{\\#Shares}$"
   ]
  },
  {
   "cell_type": "code",
   "execution_count": 16,
   "metadata": {},
   "outputs": [
    {
     "data": {
      "text/markdown": [
       "Initial Price per share =0.06666666666666667"
      ],
      "text/plain": [
       "<IPython.core.display.Markdown object>"
      ]
     },
     "metadata": {},
     "output_type": "display_data"
    },
    {
     "data": {
      "text/markdown": [
       "Final Price per share =28.4391234375"
      ],
      "text/plain": [
       "<IPython.core.display.Markdown object>"
      ]
     },
     "metadata": {},
     "output_type": "display_data"
    },
    {
     "data": {
      "text/markdown": [
       "Ken\\'s shares worth=21329342.578125"
      ],
      "text/plain": [
       "<IPython.core.display.Markdown object>"
      ]
     },
     "metadata": {},
     "output_type": "display_data"
    }
   ],
   "source": [
    "KenShares=750000\n",
    "KenInvestment=50000\n",
    "initialPricePerShareKen=KenInvestment/KenShares\n",
    "finalPricepershare=VN/(originalshares+MegShares+NewSharesA+NewSharesB)\n",
    "\n",
    "display(Markdown(r'Initial Price per share ='+rf'{initialPricePerShareKen}'))\n",
    "display(Markdown(r'Final Price per share ='+rf'{finalPricepershare}'))\n",
    "display(Markdown(r'Ken\\'s shares worth='+rf'{KenShares*finalPricepershare}'))"
   ]
  },
  {
   "cell_type": "markdown",
   "metadata": {},
   "source": [
    "What annual rate of return (compounded) on his original $50,000 investment does this represent?  "
   ]
  },
  {
   "cell_type": "markdown",
   "metadata": {},
   "source": [
    "$ROI=(\\frac{\\text{Price per share sold}}{\\text{Price per share purchased}})^{\\frac{1}{N}}$ -1 \\\n",
    "Where N is 7 because Ken bought in 2019 and sold in 2026"
   ]
  },
  {
   "cell_type": "code",
   "execution_count": 17,
   "metadata": {},
   "outputs": [
    {
     "data": {
      "text/markdown": [
       "Ken\\'s ROI=1.3752829545702667"
      ],
      "text/plain": [
       "<IPython.core.display.Markdown object>"
      ]
     },
     "metadata": {},
     "output_type": "display_data"
    }
   ],
   "source": [
    "N=7\n",
    "Ken_ROI=(finalPricepershare/initialPricePerShareKen)**(1/N)-1\n",
    "display(Markdown(r'Ken\\'s ROI='+rf'{Ken_ROI}'))"
   ]
  },
  {
   "cell_type": "markdown",
   "metadata": {},
   "source": [
    "What will Steve Moore’s shares be worth?  "
   ]
  },
  {
   "cell_type": "markdown",
   "metadata": {},
   "source": [
    "Steve's shares worth can be found with: $\\text{Steve Shares}\\times \\text{Final Share price}$"
   ]
  },
  {
   "cell_type": "code",
   "execution_count": 18,
   "metadata": {},
   "outputs": [
    {
     "data": {
      "text/markdown": [
       "Initial Price per share Steve=0.1"
      ],
      "text/plain": [
       "<IPython.core.display.Markdown object>"
      ]
     },
     "metadata": {},
     "output_type": "display_data"
    },
    {
     "data": {
      "text/markdown": [
       "Final Price per share =28.4391234375"
      ],
      "text/plain": [
       "<IPython.core.display.Markdown object>"
      ]
     },
     "metadata": {},
     "output_type": "display_data"
    },
    {
     "data": {
      "text/markdown": [
       "Steve\\'s shares worth=7109780.859375"
      ],
      "text/plain": [
       "<IPython.core.display.Markdown object>"
      ]
     },
     "metadata": {},
     "output_type": "display_data"
    }
   ],
   "source": [
    "SteveShares=250000\n",
    "SteveInvestment=25000\n",
    "initialPricePerShareSteve=SteveInvestment/SteveShares\n",
    "finalPricepershare=VN/(originalshares+MegShares+NewSharesA+NewSharesB)\n",
    "\n",
    "display(Markdown(r'Initial Price per share Steve='+rf'{initialPricePerShareSteve}'))\n",
    "display(Markdown(r'Final Price per share ='+rf'{finalPricepershare}'))\n",
    "display(Markdown(r'Steve\\'s shares worth='+rf'{SteveShares*finalPricepershare}'))"
   ]
  },
  {
   "cell_type": "markdown",
   "metadata": {},
   "source": [
    "Steve's ROI can be found with:\n",
    "$ROI=(\\frac{\\text{Price per share sold}}{\\text{Price per share purchased}})^{\\frac{1}{N}}$ -1 \\\n",
    "Where N is 7 because Steve also bought in 2019 and sold in 2026"
   ]
  },
  {
   "cell_type": "code",
   "execution_count": 19,
   "metadata": {},
   "outputs": [
    {
     "data": {
      "text/markdown": [
       "Steve\\'s ROI=1.2416069168785207"
      ],
      "text/plain": [
       "<IPython.core.display.Markdown object>"
      ]
     },
     "metadata": {},
     "output_type": "display_data"
    }
   ],
   "source": [
    "N=7\n",
    "Steve_ROI=(finalPricepershare/initialPricePerShareSteve)**(1/N)-1\n",
    "display(Markdown(r'Steve\\'s ROI='+rf'{Steve_ROI}'))"
   ]
  },
  {
   "cell_type": "markdown",
   "metadata": {},
   "source": [
    "Explain any difference between the rate of return earned by Ken and that earned by Steve. "
   ]
  },
  {
   "cell_type": "markdown",
   "metadata": {},
   "source": [
    "Ken got a better rate of return because he was able to have a lower price per share because he put in more money in the initial investment.\n"
   ]
  },
  {
   "cell_type": "markdown",
   "metadata": {},
   "source": [
    "# Question 3"
   ]
  },
  {
   "cell_type": "markdown",
   "metadata": {},
   "source": [
    "Ken is also considering the alternative of eliminating the Series B round and, instead, raising the total amount of $10,500,000 in the Series A round.  He assumes the investors in this priced round would require a 50% p.a. (compounded) rate of return.  After analyzing this alternative, Ken decided not to pursue it.  Why did he decide this?"
   ]
  },
  {
   "cell_type": "markdown",
   "metadata": {},
   "source": [
    "Original Plan: \\\n",
    "$VI_{seriesA}=I_{0}\\times(1+ROI)^{N_{\\text{SeriesA}}}$\n",
    "\n",
    "$VI_{seriesB}=I_{0}\\times(1+ROI)^{N_{\\text{SeriesB}}}$ \n",
    "\n",
    "$VI_{total}=VI_{seriesA}+VI_{seriesB}$\n",
    "\n"
   ]
  },
  {
   "cell_type": "markdown",
   "metadata": {},
   "source": [
    "Applying these equations gives the following for $VI_{seriesA},VI_{seriesB}\\text{, and }VI_{total}$"
   ]
  },
  {
   "cell_type": "code",
   "execution_count": 20,
   "metadata": {},
   "outputs": [
    {
     "data": {
      "text/markdown": [
       "Series A $VI_{SeriesA}$= $22781250.0"
      ],
      "text/plain": [
       "<IPython.core.display.Markdown object>"
      ]
     },
     "metadata": {},
     "output_type": "display_data"
    },
    {
     "data": {
      "text/markdown": [
       "Series B $VI_{SeriesB}$= $20579999.999999996"
      ],
      "text/plain": [
       "<IPython.core.display.Markdown object>"
      ]
     },
     "metadata": {},
     "output_type": "display_data"
    },
    {
     "data": {
      "text/markdown": [
       " $VI_{Total}$= $43361250.0"
      ],
      "text/plain": [
       "<IPython.core.display.Markdown object>"
      ]
     },
     "metadata": {},
     "output_type": "display_data"
    }
   ],
   "source": [
    "TimbFundSeriesA=3000000\n",
    "ROI=0.5\n",
    "VINA=TimbFundSeriesA*((1+ROI)**5)\n",
    "display(Markdown(r'Series A $VI_{SeriesA}$= $'+rf'{VINA}'))\n",
    "\n",
    "TimbFundSeriesB=7500000\n",
    "ROI=0.4\n",
    "VINB=TimbFundSeriesB*((1+ROI)**3)\n",
    "display(Markdown(r'Series B $VI_{SeriesB}$= $'+rf'{VINB}'))\n",
    "\n",
    "\n",
    "display(Markdown(r' $VI_{Total}$= $'+rf'{VINB+VINA}'))"
   ]
  },
  {
   "cell_type": "markdown",
   "metadata": {},
   "source": [
    "New plan"
   ]
  },
  {
   "cell_type": "markdown",
   "metadata": {},
   "source": [
    "$VI_{seriesA}=I_{0}\\times(1+ROI)^{N_{\\text{SeriesA}}}$\n",
    "\n",
    "$VI_{total}=VI_{seriesA}$\n",
    "\n",
    "Where $I_{0}$ and ROI are larger than the original plan"
   ]
  },
  {
   "cell_type": "code",
   "execution_count": 21,
   "metadata": {},
   "outputs": [
    {
     "data": {
      "text/markdown": [
       "Alternate Series A $VI_{SeriesA}$= $79734375.0"
      ],
      "text/plain": [
       "<IPython.core.display.Markdown object>"
      ]
     },
     "metadata": {},
     "output_type": "display_data"
    }
   ],
   "source": [
    "AltTimbFundSeriesA=10500000\n",
    "ROI=0.5\n",
    "VINA=AltTimbFundSeriesA*((1+ROI)**5)\n",
    "display(Markdown(r'Alternate Series A $VI_{SeriesA}$= $'+rf'{VINA}'))\n"
   ]
  },
  {
   "cell_type": "markdown",
   "metadata": {},
   "source": [
    "Ken abandoned this plan because the value of the company in the alternate plan was higher than terminal value of the company."
   ]
  },
  {
   "cell_type": "markdown",
   "metadata": {},
   "source": [
    "# Question 4"
   ]
  },
  {
   "cell_type": "markdown",
   "metadata": {},
   "source": [
    "Based on their prior experience, Timberlake believes that stock options will be needed as incentives to recruit a senior management team for XL.  They convince Ken to plan for the future creation of a pool of new XL shares for such option incentives equal, in total, to 15% of the company at the time of the liquidity event in 2026.  Given this plan to create a future pool of incentive stock options immediately prior to the liquidity event, recalculate your answers to questions #1a, #1b, #1c and #2. \n"
   ]
  },
  {
   "cell_type": "markdown",
   "metadata": {},
   "source": [
    "### 4.1.a"
   ]
  },
  {
   "cell_type": "markdown",
   "metadata": {},
   "source": [
    "What % of the company must Timberlake acquire in April 2021 if they fund the $3,000,000 Series A round?"
   ]
  },
  {
   "cell_type": "markdown",
   "metadata": {},
   "source": [
    "P/R Ratio 5:1 : Terminal Value= $V_{N}$ =P/R X RN"
   ]
  },
  {
   "cell_type": "code",
   "execution_count": 22,
   "metadata": {},
   "outputs": [
    {
     "data": {
      "text/markdown": [
       "Terminal Value= $75000000"
      ],
      "text/plain": [
       "<IPython.core.display.Markdown object>"
      ]
     },
     "metadata": {},
     "output_type": "display_data"
    }
   ],
   "source": [
    "#terminally Value\n",
    "RN=15000000\n",
    "VN=5*RN\n",
    "display(Markdown(r'Terminal Value= $'+rf'{VN}'))"
   ]
  },
  {
   "cell_type": "markdown",
   "metadata": {},
   "source": [
    "Series A:\n",
    "\n",
    "$VI_{N}=I_{0}\\times(1+ROI)^{N}$"
   ]
  },
  {
   "cell_type": "code",
   "execution_count": 23,
   "metadata": {},
   "outputs": [
    {
     "data": {
      "text/markdown": [
       "Series A $VI_{N}$= $22781250.0"
      ],
      "text/plain": [
       "<IPython.core.display.Markdown object>"
      ]
     },
     "metadata": {},
     "output_type": "display_data"
    }
   ],
   "source": [
    "TimbFundSeriesA=3000000\n",
    "ROI=0.5\n",
    "VINA=TimbFundSeriesA*((1+ROI)**5)\n",
    "display(Markdown(r'Series A $VI_{N}$= $'+rf'{VINA}'))\n"
   ]
  },
  {
   "cell_type": "markdown",
   "metadata": {},
   "source": [
    " Timberlake Ownership in series A is found by $\\%Ownership_{A}$=\n",
    "$\\frac{VI_{N}}{\\text{Terminal Value}}$"
   ]
  },
  {
   "cell_type": "code",
   "execution_count": 24,
   "metadata": {},
   "outputs": [
    {
     "data": {
      "text/markdown": [
       "Series A Timberlak $\\%Ownership_{A}$= 30.375000000000004%"
      ],
      "text/plain": [
       "<IPython.core.display.Markdown object>"
      ]
     },
     "metadata": {},
     "output_type": "display_data"
    }
   ],
   "source": [
    "TimbOwnershipA=VINA/VN\n",
    "display(Markdown(r'Series A Timberlak $\\%Ownership_{A}$= ' +rf'{TimbOwnershipA*100}'+r'%'))"
   ]
  },
  {
   "cell_type": "markdown",
   "metadata": {},
   "source": [
    "Series B:\n",
    "\n",
    "$VI_{N}=I_{0}\\times(1+ROI)^{N}$"
   ]
  },
  {
   "cell_type": "code",
   "execution_count": 25,
   "metadata": {
    "scrolled": true
   },
   "outputs": [
    {
     "data": {
      "text/markdown": [
       "Series B $VI_{N}$= $20579999.999999996"
      ],
      "text/plain": [
       "<IPython.core.display.Markdown object>"
      ]
     },
     "metadata": {},
     "output_type": "display_data"
    }
   ],
   "source": [
    "TimbFundSeriesB=7500000\n",
    "ROI=0.4\n",
    "VINB=TimbFundSeriesB*((1+ROI)**3)\n",
    "display(Markdown(r'Series B $VI_{N}$= $'+rf'{VINB}'))\n"
   ]
  },
  {
   "cell_type": "code",
   "execution_count": 26,
   "metadata": {},
   "outputs": [
    {
     "data": {
      "text/markdown": [
       "Series B Timberlak $\\%Ownership_{B}$= 27.439999999999998%"
      ],
      "text/plain": [
       "<IPython.core.display.Markdown object>"
      ]
     },
     "metadata": {},
     "output_type": "display_data"
    }
   ],
   "source": [
    "TimbOwnershipB=VINB/VN\n",
    "display(Markdown(r'Series B Timberlak $\\%Ownership_{B}$= ' +rf'{TimbOwnershipB*100}'+r'%'))"
   ]
  },
  {
   "cell_type": "markdown",
   "metadata": {},
   "source": [
    "Percent Acquired in Series A round \n",
    "\n",
    "$\\%Acquired_{A}=\\frac{Ownership_{A}}{Retention}=\n",
    "\\frac{Ownership_{A}}{1-Acquired_{B}-\\text{Stock Options}}$\n",
    "\n",
    "$\\%Acquired_{B}=\\frac{Ownership_{B}}{Retention}=\n",
    "\\frac{Ownership_{B}}{1-\\text{Stock Options}}$"
   ]
  },
  {
   "cell_type": "code",
   "execution_count": 27,
   "metadata": {},
   "outputs": [
    {
     "data": {
      "text/markdown": [
       "Series A Retention Timberlake $\\%Ownership_{A}$= 52.77102154273802%"
      ],
      "text/plain": [
       "<IPython.core.display.Markdown object>"
      ]
     },
     "metadata": {},
     "output_type": "display_data"
    },
    {
     "data": {
      "text/markdown": [
       "Series B Retention Timberlake $\\%Ownership_{B}$= 32.28235294117647%"
      ],
      "text/plain": [
       "<IPython.core.display.Markdown object>"
      ]
     },
     "metadata": {},
     "output_type": "display_data"
    }
   ],
   "source": [
    "StockOption=0.15\n",
    "RetentionTimbOwnershipA=TimbOwnershipA/(1-TimbOwnershipB-StockOption)\n",
    "RetentionTimbOwnershipB=TimbOwnershipB/(1-StockOption)\n",
    "display(Markdown(r'Series A Retention Timberlake $\\%Ownership_{A}$= ' +rf'{RetentionTimbOwnershipA*100}'+r'%'))\n",
    "display(Markdown(r'Series B Retention Timberlake $\\%Ownership_{B}$= ' +rf'{RetentionTimbOwnershipB*100}'+r'%'))\n"
   ]
  },
  {
   "cell_type": "markdown",
   "metadata": {},
   "source": [
    "How many new shares of XL stock should they acquire?  "
   ]
  },
  {
   "cell_type": "code",
   "execution_count": 28,
   "metadata": {},
   "outputs": [
    {
     "data": {
      "text/markdown": [
       "Shares they need in the series A round= 1117344.1235975723"
      ],
      "text/plain": [
       "<IPython.core.display.Markdown object>"
      ]
     },
     "metadata": {},
     "output_type": "display_data"
    }
   ],
   "source": [
    "originalshares=1000000\n",
    "SharesSeriesA=(RetentionTimbOwnershipA/(1-RetentionTimbOwnershipA))*originalshares\n",
    "display(Markdown(r'Shares they need in the series A round= ' +rf'{SharesSeriesA}')) "
   ]
  },
  {
   "cell_type": "markdown",
   "metadata": {},
   "source": [
    "What should be the price per share?  "
   ]
  },
  {
   "cell_type": "markdown",
   "metadata": {},
   "source": [
    "$\\frac{Price}{share}=\\frac{Investment}{Shares Series A}$"
   ]
  },
  {
   "cell_type": "code",
   "execution_count": 29,
   "metadata": {},
   "outputs": [
    {
     "data": {
      "text/markdown": [
       "Price per share series A= 2.684938271604938"
      ],
      "text/plain": [
       "<IPython.core.display.Markdown object>"
      ]
     },
     "metadata": {},
     "output_type": "display_data"
    }
   ],
   "source": [
    "SeriesAPrice_Share=TimbFundSeriesA/SharesSeriesA\n",
    "\n",
    "display(Markdown(r'Price per share series A= ' +rf'{SeriesAPrice_Share}')) "
   ]
  },
  {
   "cell_type": "markdown",
   "metadata": {},
   "source": [
    "What are the pre-money and post-money valuations of this Series A round? \n"
   ]
  },
  {
   "cell_type": "markdown",
   "metadata": {},
   "source": [
    "Post–Money Valuation=$\\frac{Investment}{\\% Ownership}$ \n",
    "\n",
    "Pre–Money Valuation=Post–Money Valuation-Investment\n"
   ]
  },
  {
   "cell_type": "code",
   "execution_count": 30,
   "metadata": {
    "scrolled": true
   },
   "outputs": [
    {
     "data": {
      "text/markdown": [
       "Post Money Valuation= 5684938.2716049375"
      ],
      "text/plain": [
       "<IPython.core.display.Markdown object>"
      ]
     },
     "metadata": {},
     "output_type": "display_data"
    },
    {
     "data": {
      "text/markdown": [
       "Pre Money Valuation= 2684938.2716049375"
      ],
      "text/plain": [
       "<IPython.core.display.Markdown object>"
      ]
     },
     "metadata": {},
     "output_type": "display_data"
    }
   ],
   "source": [
    "SeriesAPostMoneyValuation=TimbFundSeriesA/RetentionTimbOwnershipA\n",
    "SeriesAPreMoneyValuation=SeriesAPostMoneyValuation-TimbFundSeriesA\n",
    "display(Markdown(r'Post Money Valuation= ' +rf'{SeriesAPostMoneyValuation}')) \n",
    "display(Markdown(r'Pre Money Valuation= ' +rf'{SeriesAPreMoneyValuation}')) "
   ]
  },
  {
   "cell_type": "markdown",
   "metadata": {},
   "source": [
    "### Question 4.1b: \n",
    "How many shares of XL stock will Meg acquire at the time of conversion of her convertible note?  "
   ]
  },
  {
   "cell_type": "markdown",
   "metadata": {},
   "source": [
    "$VI_{Meg}=I_{0}\\times(1+InterestRate)^{N}$ \n",
    "\n",
    "$\\%Ownership=\\frac{VI_{Meg}}{Post Money Valuation} \\text{ or } \\frac{VI_{Meg}}{Post Money Valuation Cap}$\n",
    "\n",
    "$(Post-Money Valuation)_{Note}=(Pre-Money Valuationn)_{Series A}\\times(1-Discount)$\n",
    "\n",
    "$Meg New Shares=\\frac{\\%Ownership_{Meg}}{1-\\%Ownership_{Meg}}*\\text{Series A Shares}$\n",
    "\n",
    "$\\frac{Price}{share}=\\frac{\\text{Meg Initial Investment}}{\\text{Meg New Shares}}$\n",
    "\n",
    "We will use the pre money valuation to determine Meg's  percent ownership because series A did not pass the valuation cap"
   ]
  },
  {
   "cell_type": "code",
   "execution_count": 31,
   "metadata": {},
   "outputs": [
    {
     "data": {
      "text/markdown": [
       "Meg initial investment= 300000"
      ],
      "text/plain": [
       "<IPython.core.display.Markdown object>"
      ]
     },
     "metadata": {},
     "output_type": "display_data"
    },
    {
     "data": {
      "text/markdown": [
       "Meg Investment after interest= 337080.00000000006"
      ],
      "text/plain": [
       "<IPython.core.display.Markdown object>"
      ]
     },
     "metadata": {},
     "output_type": "display_data"
    },
    {
     "data": {
      "text/markdown": [
       "Convertible note valuation= 2147950.61728395"
      ],
      "text/plain": [
       "<IPython.core.display.Markdown object>"
      ]
     },
     "metadata": {},
     "output_type": "display_data"
    },
    {
     "data": {
      "text/markdown": [
       "Meg Ownership = 0.1569309821592791"
      ],
      "text/plain": [
       "<IPython.core.display.Markdown object>"
      ]
     },
     "metadata": {},
     "output_type": "display_data"
    },
    {
     "data": {
      "text/markdown": [
       "Meg Shares = 186142.5089030228"
      ],
      "text/plain": [
       "<IPython.core.display.Markdown object>"
      ]
     },
     "metadata": {},
     "output_type": "display_data"
    },
    {
     "data": {
      "text/markdown": [
       "Meg Price per Share = 1.6116684027091044"
      ],
      "text/plain": [
       "<IPython.core.display.Markdown object>"
      ]
     },
     "metadata": {},
     "output_type": "display_data"
    }
   ],
   "source": [
    "MegInvestment=300000\n",
    "ConvertibleNoteInterest=0.06\n",
    "ConvertibleYears=2\n",
    "ConvertibleNoteCap=6000000\n",
    "VIMeg=MegInvestment*(1+ConvertibleNoteInterest)**ConvertibleYears\n",
    "\n",
    "ConvertibleDiscount=0.20\n",
    "ConvertibleNoteValuation=SeriesAPreMoneyValuation*(1-ConvertibleDiscount)\n",
    "MegOwnerShip=VIMeg/ConvertibleNoteValuation\n",
    "MegShares=(MegOwnerShip/(1-MegOwnerShip))*(1000000)\n",
    "MegPrice_Share=MegInvestment/MegShares\n",
    "display(Markdown(r'Meg initial investment= ' +rf'{MegInvestment}')) \n",
    "display(Markdown(r'Meg Investment after interest= ' +rf'{VIMeg}')) \n",
    "display(Markdown(r'Convertible note valuation= ' +rf'{ConvertibleNoteValuation}'))\n",
    "display(Markdown(r'Meg Ownership = ' +rf'{MegOwnerShip}')) \n",
    "display(Markdown(r'Meg Shares = ' +rf'{MegShares}')) \n",
    "display(Markdown(r'Meg Price per Share = ' +rf'{MegPrice_Share}')) \n"
   ]
  },
  {
   "cell_type": "markdown",
   "metadata": {},
   "source": [
    "Does the valuation cap on the convertible note affect the number of shares Meg acquires?  Explain. \\\n",
    "It does not come into play because the premoney valuation is less than 6 million."
   ]
  },
  {
   "cell_type": "markdown",
   "metadata": {},
   "source": [
    "### Question #4.1c.  \n",
    "What  \\%  of  the  company  must  Timberlake  acquire  in  April  2023  if  they  fund  the  full  $7,500,000 Series B round?  \n"
   ]
  },
  {
   "cell_type": "markdown",
   "metadata": {},
   "source": [
    "Series A:\n",
    "\n",
    "$VI_{N}=I_{0}\\times(1+ROI)^{N}$"
   ]
  },
  {
   "cell_type": "code",
   "execution_count": 32,
   "metadata": {},
   "outputs": [
    {
     "data": {
      "text/markdown": [
       "Series A $VI_{N}$= $22781250.0"
      ],
      "text/plain": [
       "<IPython.core.display.Markdown object>"
      ]
     },
     "metadata": {},
     "output_type": "display_data"
    }
   ],
   "source": [
    "TimbFundSeriesA=3000000\n",
    "ROI=0.5\n",
    "VINA=TimbFundSeriesA*((1+ROI)**5)\n",
    "display(Markdown(r'Series A $VI_{N}$= $'+rf'{VINA}'))\n"
   ]
  },
  {
   "cell_type": "markdown",
   "metadata": {},
   "source": [
    " Timberlake Ownership in series A is found by $\\%Ownership_{A}$=\n",
    "$\\frac{VI_{N}}{\\text{Terminal Value}}$"
   ]
  },
  {
   "cell_type": "code",
   "execution_count": 33,
   "metadata": {},
   "outputs": [
    {
     "data": {
      "text/markdown": [
       "Series A Timberlak $\\%Ownership_{A}$= 30.375000000000004%"
      ],
      "text/plain": [
       "<IPython.core.display.Markdown object>"
      ]
     },
     "metadata": {},
     "output_type": "display_data"
    }
   ],
   "source": [
    "TimbOwnershipA=VINA/VN\n",
    "display(Markdown(r'Series A Timberlak $\\%Ownership_{A}$= ' +rf'{TimbOwnershipA*100}'+r'%'))"
   ]
  },
  {
   "cell_type": "markdown",
   "metadata": {},
   "source": [
    "Series B:\n",
    "\n",
    "$VI_{N}=I_{0}\\times(1+ROI)^{N}$"
   ]
  },
  {
   "cell_type": "code",
   "execution_count": 34,
   "metadata": {
    "scrolled": true
   },
   "outputs": [
    {
     "data": {
      "text/markdown": [
       "Series B $VI_{N}$= $20579999.999999996"
      ],
      "text/plain": [
       "<IPython.core.display.Markdown object>"
      ]
     },
     "metadata": {},
     "output_type": "display_data"
    }
   ],
   "source": [
    "TimbFundSeriesB=7500000\n",
    "ROI=0.4\n",
    "VINB=TimbFundSeriesB*((1+ROI)**3)\n",
    "display(Markdown(r'Series B $VI_{N}$= $'+rf'{VINB}'))\n"
   ]
  },
  {
   "cell_type": "code",
   "execution_count": 35,
   "metadata": {},
   "outputs": [
    {
     "data": {
      "text/markdown": [
       "Series B Timberlak $\\%Ownership_{B}$= 27.439999999999998%"
      ],
      "text/plain": [
       "<IPython.core.display.Markdown object>"
      ]
     },
     "metadata": {},
     "output_type": "display_data"
    }
   ],
   "source": [
    "TimbOwnershipB=VINB/VN\n",
    "display(Markdown(r'Series B Timberlak $\\%Ownership_{B}$= ' +rf'{TimbOwnershipB*100}'+r'%'))"
   ]
  },
  {
   "cell_type": "markdown",
   "metadata": {},
   "source": [
    "Percent Acquired in Series A round \n",
    "\n",
    "$\\%Acquired_{A}=\\frac{Ownership_{A}}{Retention}=\n",
    "\\frac{Ownership_{A}}{1-Acquired_{B}-\\text{Stock Options}}$\n",
    "\n",
    "Percent Acquired in series B\n",
    "\n",
    "$\\%Acquired_{B}=\\frac{Ownership_{B}}{Retention}=\n",
    "\\frac{Ownership_{B}}{1-\\text{Stock Options}}$"
   ]
  },
  {
   "cell_type": "code",
   "execution_count": 36,
   "metadata": {},
   "outputs": [
    {
     "data": {
      "text/markdown": [
       "Series A Retention Timberlake $\\%Ownership_{A}$= 52.77102154273802%"
      ],
      "text/plain": [
       "<IPython.core.display.Markdown object>"
      ]
     },
     "metadata": {},
     "output_type": "display_data"
    },
    {
     "data": {
      "text/markdown": [
       "Series B Retention Timberlake $\\%Ownership_{B}$= 32.28235294117647%"
      ],
      "text/plain": [
       "<IPython.core.display.Markdown object>"
      ]
     },
     "metadata": {},
     "output_type": "display_data"
    }
   ],
   "source": [
    "StockOption=0.15\n",
    "RetentionTimbOwnershipA=TimbOwnershipA/(1-TimbOwnershipB-StockOption)\n",
    "RetentionTimbOwnershipB=TimbOwnershipB/(1-StockOption)\n",
    "display(Markdown(r'Series A Retention Timberlake $\\%Ownership_{A}$= ' +rf'{RetentionTimbOwnershipA*100}'+r'%'))\n",
    "display(Markdown(r'Series B Retention Timberlake $\\%Ownership_{B}$= ' +rf'{RetentionTimbOwnershipB*100}'+r'%'))\n"
   ]
  },
  {
   "cell_type": "markdown",
   "metadata": {},
   "source": [
    "How many new shares of XL stock should they acquire?  "
   ]
  },
  {
   "cell_type": "markdown",
   "metadata": {},
   "source": [
    "$\\text{New Shares} _{seriesA}=\\frac{\\%Ownership_{seriesARetention}}{1-\\%Ownership_{seriesARetention}}\\times(\\text{original shares}+\\text{angel investor shares})$\n",
    "$\\text{New Shares} _{seriesB}=\\frac{\\%Ownership_{seriesBRetention}}{1-\\%Ownership_{seriesBRetention}}\\times(\\text{original shares}+\\text{angel investor shares}+\\text{New Shares} _{seriesA})$"
   ]
  },
  {
   "cell_type": "code",
   "execution_count": 37,
   "metadata": {},
   "outputs": [
    {
     "data": {
      "text/markdown": [
       "New Shares Series A=1325329.3620720736"
      ],
      "text/plain": [
       "<IPython.core.display.Markdown object>"
      ]
     },
     "metadata": {},
     "output_type": "display_data"
    },
    {
     "data": {
      "text/markdown": [
       "New Shares Series B=1197268.7307080724"
      ],
      "text/plain": [
       "<IPython.core.display.Markdown object>"
      ]
     },
     "metadata": {},
     "output_type": "display_data"
    }
   ],
   "source": [
    "NewSharesA=(RetentionTimbOwnershipA/(1-RetentionTimbOwnershipA))*(originalshares+ MegShares)\n",
    "NewSharesB=(RetentionTimbOwnershipB/(1-RetentionTimbOwnershipB))*(originalshares+ MegShares+NewSharesA)\n",
    "display(Markdown(r'New Shares Series A='+rf'{NewSharesA}'))\n",
    "display(Markdown(r'New Shares Series B='+rf'{NewSharesB}'))\n"
   ]
  },
  {
   "cell_type": "markdown",
   "metadata": {},
   "source": [
    "Series B price per share\n",
    "and Post money Valuation"
   ]
  },
  {
   "cell_type": "code",
   "execution_count": 38,
   "metadata": {},
   "outputs": [
    {
     "data": {
      "text/markdown": [
       "Price per share series B=6.264257812499999"
      ],
      "text/plain": [
       "<IPython.core.display.Markdown object>"
      ]
     },
     "metadata": {},
     "output_type": "display_data"
    },
    {
     "data": {
      "text/markdown": [
       "Series B Valuation=23232507.28862974"
      ],
      "text/plain": [
       "<IPython.core.display.Markdown object>"
      ]
     },
     "metadata": {},
     "output_type": "display_data"
    }
   ],
   "source": [
    "\n",
    "SeriesBPrice_Share=TimbFundSeriesB/NewSharesB\n",
    "SeriesBValuation=TimbFundSeriesB/RetentionTimbOwnershipB\n",
    "display(Markdown(r'Price per share series B='+rf'{SeriesBPrice_Share}'))\n",
    "display(Markdown(r'Series B Valuation='+rf'{SeriesBValuation}'))"
   ]
  },
  {
   "cell_type": "markdown",
   "metadata": {},
   "source": [
    "### 4.2"
   ]
  },
  {
   "cell_type": "markdown",
   "metadata": {},
   "source": [
    "At  the  planned  “liquidity  event”  in  April  2026,  what  will  Ken’s  shares  in  XL  be  worth? \n"
   ]
  },
  {
   "cell_type": "markdown",
   "metadata": {},
   "source": [
    "Using  $\\frac{\\text(Value of Company)}{\\text{Total Number of Shares}}=\\frac{\\text{PR Ratio}\\times\\text{Revenue}}{\\text{Total Number of Shares}} \\times(1-\\text{Option Pools})\\newline \\& \\newline\n",
    "\\text{Initial Price per share}=\\frac{Investment}{\\#Shares}$"
   ]
  },
  {
   "cell_type": "code",
   "execution_count": 39,
   "metadata": {},
   "outputs": [
    {
     "data": {
      "text/markdown": [
       "Initial Price per share =0.06666666666666667"
      ],
      "text/plain": [
       "<IPython.core.display.Markdown object>"
      ]
     },
     "metadata": {},
     "output_type": "display_data"
    },
    {
     "data": {
      "text/markdown": [
       "Final Price per share =17.189123437499994"
      ],
      "text/plain": [
       "<IPython.core.display.Markdown object>"
      ]
     },
     "metadata": {},
     "output_type": "display_data"
    },
    {
     "data": {
      "text/markdown": [
       "Ken\\'s shares worth=12891842.578124996"
      ],
      "text/plain": [
       "<IPython.core.display.Markdown object>"
      ]
     },
     "metadata": {},
     "output_type": "display_data"
    }
   ],
   "source": [
    "KenShares=750000\n",
    "KenInvestment=50000\n",
    "initialPricePerShareKen=KenInvestment/KenShares\n",
    "finalPricepershare=VN/(originalshares+MegShares+NewSharesA+NewSharesB)*(1-StockOption)\n",
    "\n",
    "display(Markdown(r'Initial Price per share ='+rf'{initialPricePerShareKen}'))\n",
    "display(Markdown(r'Final Price per share ='+rf'{finalPricepershare}'))\n",
    "display(Markdown(r'Ken\\'s shares worth='+rf'{KenShares*finalPricepershare}'))"
   ]
  },
  {
   "cell_type": "markdown",
   "metadata": {},
   "source": [
    "What annual rate of return (compounded) on his original $50,000 investment does this represent?  "
   ]
  },
  {
   "cell_type": "markdown",
   "metadata": {},
   "source": [
    "$ROI=(\\frac{\\text{Price per share sold}}{\\text{Price per share purchased}})^{\\frac{1}{N}}$ -1 \\\n",
    "Where N is 7 because Ken bought in 2019 and sold in 2026"
   ]
  },
  {
   "cell_type": "code",
   "execution_count": 40,
   "metadata": {},
   "outputs": [
    {
     "data": {
      "text/markdown": [
       "Ken\\'s ROI=1.2104355448517405"
      ],
      "text/plain": [
       "<IPython.core.display.Markdown object>"
      ]
     },
     "metadata": {},
     "output_type": "display_data"
    }
   ],
   "source": [
    "N=7\n",
    "Ken_ROI=(finalPricepershare/initialPricePerShareKen)**(1/N)-1\n",
    "display(Markdown(r'Ken\\'s ROI='+rf'{Ken_ROI}'))"
   ]
  },
  {
   "cell_type": "markdown",
   "metadata": {},
   "source": [
    "What will Steve Moore’s shares be worth?  "
   ]
  },
  {
   "cell_type": "markdown",
   "metadata": {},
   "source": [
    "Steve's shares worth can be found with: $\\text{Steve Shares}\\times \\text{Final Share price}$"
   ]
  },
  {
   "cell_type": "code",
   "execution_count": 41,
   "metadata": {},
   "outputs": [
    {
     "data": {
      "text/markdown": [
       "Initial Price per share Steve=0.1"
      ],
      "text/plain": [
       "<IPython.core.display.Markdown object>"
      ]
     },
     "metadata": {},
     "output_type": "display_data"
    },
    {
     "data": {
      "text/markdown": [
       "Final Price per share =17.189123437499994"
      ],
      "text/plain": [
       "<IPython.core.display.Markdown object>"
      ]
     },
     "metadata": {},
     "output_type": "display_data"
    },
    {
     "data": {
      "text/markdown": [
       "Steve\\'s shares worth=4297280.859374998"
      ],
      "text/plain": [
       "<IPython.core.display.Markdown object>"
      ]
     },
     "metadata": {},
     "output_type": "display_data"
    }
   ],
   "source": [
    "SteveShares=250000\n",
    "SteveInvestment=25000\n",
    "initialPricePerShareSteve=SteveInvestment/SteveShares\n",
    "\n",
    "\n",
    "display(Markdown(r'Initial Price per share Steve='+rf'{initialPricePerShareSteve}'))\n",
    "display(Markdown(r'Final Price per share ='+rf'{finalPricepershare}'))\n",
    "display(Markdown(r'Steve\\'s shares worth='+rf'{SteveShares*finalPricepershare}'))"
   ]
  },
  {
   "cell_type": "markdown",
   "metadata": {},
   "source": [
    "Steve's ROI can be found with:\n",
    "$ROI=(\\frac{\\text{Price per share sold}}{\\text{Price per share purchased}})^{\\frac{1}{N}}$ -1 \\\n",
    "Where N is 7 because Steve also bought in 2019 and sold in 2026"
   ]
  },
  {
   "cell_type": "code",
   "execution_count": 42,
   "metadata": {},
   "outputs": [
    {
     "data": {
      "text/markdown": [
       "Steve\\'s ROI=1.0860367802160407"
      ],
      "text/plain": [
       "<IPython.core.display.Markdown object>"
      ]
     },
     "metadata": {},
     "output_type": "display_data"
    }
   ],
   "source": [
    "N=7\n",
    "Steve_ROI=(finalPricepershare/initialPricePerShareSteve)**(1/N)-1\n",
    "display(Markdown(r'Steve\\'s ROI='+rf'{Steve_ROI}'))"
   ]
  },
  {
   "cell_type": "markdown",
   "metadata": {},
   "source": [
    "Explain any difference between the rate of return earned by Ken and that earned by Steve. "
   ]
  },
  {
   "cell_type": "markdown",
   "metadata": {},
   "source": [
    "Ken got a better rate of return because he was able to have a lower price per share because he put in more money in the initial investment.\n"
   ]
  },
  {
   "cell_type": "markdown",
   "metadata": {},
   "source": [
    "# Question 5"
   ]
  },
  {
   "cell_type": "markdown",
   "metadata": {},
   "source": [
    " Immediately before the Series B round, it becomes apparent that the liquidity event will be delayed  one  year  until  April  2027  and  that  a  third,  Series  C,  round  of  financing  for  $1,000,000  will  be  required in April 2026.  It is anticipated that the investors in this third, “mezzanine” or “bridge” round will require a 25% p.a. (compounded) rate of return.   At the time this delay becomes apparent, Timberlake’s Series  A  investment  is  already  a  done-deal  and  cannot  be  renegotiated.    The  future  creation  of  a  stock  option pool, as described above, is still included in XL’s plan.  Despite the delay, the estimated terminal value of XL remains unchanged.  How does this change your answers to question #4?  Given this delay scenario, what compound annual rates of return are actually realized on the Series A, Series B and Series C rounds of investment?    \n"
   ]
  },
  {
   "cell_type": "markdown",
   "metadata": {},
   "source": [
    "Megs convetible note happens in 2023 \n",
    "- Series A  (2021, \\$ 3.0 M,50\\%ROI)\n",
    "- Series B (2023, \\$7.5 M,40\\%ROI) \n",
    "- Series C (2026, \\$ 1.0 M, 25\\% ROI) \n",
    "- Liquidity Event (2027, $75 M Terminal Value) \n",
    "→ Shares Converted (Preferred to Common)\n",
    "\n"
   ]
  },
  {
   "cell_type": "markdown",
   "metadata": {},
   "source": [
    "### 5.1.a"
   ]
  },
  {
   "cell_type": "markdown",
   "metadata": {},
   "source": [
    "What % of the company must Timberlake acquire in April 2021 if they fund the $3,000,000 Series A round?"
   ]
  },
  {
   "cell_type": "markdown",
   "metadata": {},
   "source": [
    "P/R Ratio 5:1 : Terminal Value= $V_{N}$ =P/R X RN"
   ]
  },
  {
   "cell_type": "code",
   "execution_count": 43,
   "metadata": {},
   "outputs": [
    {
     "data": {
      "text/markdown": [
       "Terminal Value= $75000000"
      ],
      "text/plain": [
       "<IPython.core.display.Markdown object>"
      ]
     },
     "metadata": {},
     "output_type": "display_data"
    }
   ],
   "source": [
    "#terminally Value\n",
    "RN=15000000\n",
    "VN=5*RN\n",
    "display(Markdown(r'Terminal Value= $'+rf'{VN}'))"
   ]
  },
  {
   "cell_type": "markdown",
   "metadata": {},
   "source": [
    "Series A remains unchanged so we get:\n",
    "Series A:\n",
    "\n",
    "$VI_{N}=I_{0}\\times(1+ROI)^{N}$"
   ]
  },
  {
   "cell_type": "code",
   "execution_count": 44,
   "metadata": {},
   "outputs": [
    {
     "data": {
      "text/markdown": [
       "Series A $VI_{N}$= $22781250.0"
      ],
      "text/plain": [
       "<IPython.core.display.Markdown object>"
      ]
     },
     "metadata": {},
     "output_type": "display_data"
    }
   ],
   "source": [
    "TimbFundSeriesA=3000000\n",
    "ROI=0.5\n",
    "VINA=TimbFundSeriesA*((1+ROI)**5)\n",
    "display(Markdown(r'Series A $VI_{N}$= $'+rf'{VINA}'))\n"
   ]
  },
  {
   "cell_type": "markdown",
   "metadata": {},
   "source": [
    " Timberlake Ownership in series A is found by $\\%Ownership_{A}$=\n",
    "$\\frac{VI_{N}}{\\text{Terminal Value}}$"
   ]
  },
  {
   "cell_type": "code",
   "execution_count": 45,
   "metadata": {
    "scrolled": true
   },
   "outputs": [
    {
     "data": {
      "text/markdown": [
       "Series A Timberlak $\\%Ownership_{A}$= 30.375000000000004%"
      ],
      "text/plain": [
       "<IPython.core.display.Markdown object>"
      ]
     },
     "metadata": {},
     "output_type": "display_data"
    }
   ],
   "source": [
    "TimbOwnershipA=VINA/VN\n",
    "display(Markdown(r'Series A Timberlak $\\%Ownership_{A}$= ' +rf'{TimbOwnershipA*100}'+r'%'))"
   ]
  },
  {
   "cell_type": "markdown",
   "metadata": {},
   "source": [
    "Series B with extenstion adjustment:\n",
    "\n",
    "$VI_{N}=I_{0}\\times(1+ROI)^{N}$"
   ]
  },
  {
   "cell_type": "code",
   "execution_count": 46,
   "metadata": {
    "scrolled": true
   },
   "outputs": [
    {
     "data": {
      "text/markdown": [
       "Series B $VI_{N}$= $20579999.999999996"
      ],
      "text/plain": [
       "<IPython.core.display.Markdown object>"
      ]
     },
     "metadata": {},
     "output_type": "display_data"
    }
   ],
   "source": [
    "TimbFundSeriesB2=7500000\n",
    "ROI=0.4\n",
    "VINB2=TimbFundSeriesB2*((1+ROI)**4)\n",
    "display(Markdown(r'Series B $VI_{N}$= $'+rf'{VINB}'))\n"
   ]
  },
  {
   "cell_type": "code",
   "execution_count": 47,
   "metadata": {
    "scrolled": true
   },
   "outputs": [
    {
     "data": {
      "text/markdown": [
       "Series B Timberlak $\\%Ownership_{B}$= 27.439999999999998%"
      ],
      "text/plain": [
       "<IPython.core.display.Markdown object>"
      ]
     },
     "metadata": {},
     "output_type": "display_data"
    }
   ],
   "source": [
    "TimbOwnershipB2=VINB2/VN\n",
    "display(Markdown(r'Series B Timberlak $\\%Ownership_{B}$= ' +rf'{TimbOwnershipB*100}'+r'%'))"
   ]
  },
  {
   "cell_type": "markdown",
   "metadata": {},
   "source": [
    "Series C:\n",
    "\n",
    "$VI_{N}=I_{0}\\times(1+ROI)^{N}$"
   ]
  },
  {
   "cell_type": "code",
   "execution_count": 48,
   "metadata": {
    "scrolled": true
   },
   "outputs": [
    {
     "data": {
      "text/markdown": [
       "Series C $VI_{N}$= $1250000.0"
      ],
      "text/plain": [
       "<IPython.core.display.Markdown object>"
      ]
     },
     "metadata": {},
     "output_type": "display_data"
    }
   ],
   "source": [
    "TimbFundSeriesC=1000000\n",
    "ROI=0.25\n",
    "VINC=TimbFundSeriesC*((1+ROI)**1)\n",
    "display(Markdown(r'Series C $VI_{N}$= $'+rf'{VINC}'))\n"
   ]
  },
  {
   "cell_type": "code",
   "execution_count": 49,
   "metadata": {},
   "outputs": [
    {
     "data": {
      "text/markdown": [
       "Series C Timberlak $\\%Ownership_{C}$= 1.6666666666666667%"
      ],
      "text/plain": [
       "<IPython.core.display.Markdown object>"
      ]
     },
     "metadata": {},
     "output_type": "display_data"
    }
   ],
   "source": [
    "TimbOwnershipC=VINC/VN\n",
    "display(Markdown(r'Series C Timberlak $\\%Ownership_{C}$= ' +rf'{TimbOwnershipC*100}'+r'%'))"
   ]
  },
  {
   "cell_type": "markdown",
   "metadata": {},
   "source": [
    "Percent Acquired in Series A round \n",
    "Series A remains unchanged \\\n",
    "$\\%Acquired_{A}=\\frac{Ownership_{A}}{Retention}=\n",
    "\\frac{Ownership_{A}}{1-Acquired_{B}-\\text{Stock Options}}$\n",
    "\n",
    "$\\%Acquired_{B}=\\frac{Ownership_{B}}{Retention}=\n",
    "\\frac{Ownership_{B}}{1-Acquired_{C}-\\text{Stock Options}}$\n",
    "\n",
    "$\\%Acquired_{C}=\\frac{Ownership_{C}}{Retention}=\n",
    "\\frac{Ownership_{C}}{1-\\text{Stock Options}}$"
   ]
  },
  {
   "cell_type": "code",
   "execution_count": 50,
   "metadata": {},
   "outputs": [
    {
     "data": {
      "text/markdown": [
       "Series A Retention Timberlake $\\%Ownership_{A}$= 52.77102154273802%"
      ],
      "text/plain": [
       "<IPython.core.display.Markdown object>"
      ]
     },
     "metadata": {},
     "output_type": "display_data"
    },
    {
     "data": {
      "text/markdown": [
       "Series B Retention Timberlake $\\%Ownership_{B}$= 46.09919999999999%"
      ],
      "text/plain": [
       "<IPython.core.display.Markdown object>"
      ]
     },
     "metadata": {},
     "output_type": "display_data"
    },
    {
     "data": {
      "text/markdown": [
       "Series C Retention Timberlake $\\%Ownership_{C}$= 1.9607843137254901%"
      ],
      "text/plain": [
       "<IPython.core.display.Markdown object>"
      ]
     },
     "metadata": {},
     "output_type": "display_data"
    }
   ],
   "source": [
    "StockOption=0.15\n",
    "RetentionTimbOwnershipA=TimbOwnershipA/(1-TimbOwnershipB-StockOption)\n",
    "RetentionTimbOwnershipB=TimbOwnershipB2/(1-StockOption-TimbOwnershipC)\n",
    "RetentionTimbOwnershipC=TimbOwnershipC/(1-StockOption)\n",
    "display(Markdown(r'Series A Retention Timberlake $\\%Ownership_{A}$= ' +rf'{RetentionTimbOwnershipA*100}'+r'%'))\n",
    "display(Markdown(r'Series B Retention Timberlake $\\%Ownership_{B}$= ' +rf'{RetentionTimbOwnershipB*100}'+r'%'))\n",
    "display(Markdown(r'Series C Retention Timberlake $\\%Ownership_{C}$= ' +rf'{RetentionTimbOwnershipC*100}'+r'%'))\n"
   ]
  },
  {
   "cell_type": "markdown",
   "metadata": {},
   "source": [
    "How many new shares of XL stock should they acquire?  "
   ]
  },
  {
   "cell_type": "code",
   "execution_count": 51,
   "metadata": {},
   "outputs": [
    {
     "data": {
      "text/markdown": [
       "Shares they need in the series A round remains unchanged= 1117344.1235975723"
      ],
      "text/plain": [
       "<IPython.core.display.Markdown object>"
      ]
     },
     "metadata": {},
     "output_type": "display_data"
    }
   ],
   "source": [
    "originalshares=1000000\n",
    "SharesSeriesA=(RetentionTimbOwnershipA/(1-RetentionTimbOwnershipA))*originalshares\n",
    "display(Markdown(r'Shares they need in the series A round remains unchanged= ' +rf'{SharesSeriesA}')) "
   ]
  },
  {
   "cell_type": "markdown",
   "metadata": {},
   "source": [
    "What should be the price per share?  "
   ]
  },
  {
   "cell_type": "markdown",
   "metadata": {},
   "source": [
    "$\\frac{Price}{share}=\\frac{Investment}{Shares Series A}$"
   ]
  },
  {
   "cell_type": "code",
   "execution_count": 52,
   "metadata": {},
   "outputs": [
    {
     "data": {
      "text/markdown": [
       "Price per share series A= 2.684938271604938"
      ],
      "text/plain": [
       "<IPython.core.display.Markdown object>"
      ]
     },
     "metadata": {},
     "output_type": "display_data"
    }
   ],
   "source": [
    "SeriesAPrice_Share=TimbFundSeriesA/SharesSeriesA\n",
    "\n",
    "display(Markdown(r'Price per share series A= ' +rf'{SeriesAPrice_Share}')) "
   ]
  },
  {
   "cell_type": "markdown",
   "metadata": {},
   "source": [
    "What are the pre-money and post-money valuations of this Series A round? \n"
   ]
  },
  {
   "cell_type": "markdown",
   "metadata": {},
   "source": [
    "Post–Money Valuation=$\\frac{Investment}{\\% Ownership}$ \n",
    "\n",
    "Pre–Money Valuation=Post–Money Valuation-Investment\n"
   ]
  },
  {
   "cell_type": "code",
   "execution_count": 53,
   "metadata": {
    "scrolled": true
   },
   "outputs": [
    {
     "data": {
      "text/markdown": [
       "Post Money Valuation Series A= 5684938.2716049375"
      ],
      "text/plain": [
       "<IPython.core.display.Markdown object>"
      ]
     },
     "metadata": {},
     "output_type": "display_data"
    },
    {
     "data": {
      "text/markdown": [
       "Pre Money Valuation Series A= 2684938.2716049375"
      ],
      "text/plain": [
       "<IPython.core.display.Markdown object>"
      ]
     },
     "metadata": {},
     "output_type": "display_data"
    }
   ],
   "source": [
    "SeriesAPostMoneyValuation=TimbFundSeriesA/RetentionTimbOwnershipA\n",
    "SeriesAPreMoneyValuation=SeriesAPostMoneyValuation-TimbFundSeriesA\n",
    "display(Markdown(r'Post Money Valuation Series A= ' +rf'{SeriesAPostMoneyValuation}')) \n",
    "display(Markdown(r'Pre Money Valuation Series A= ' +rf'{SeriesAPreMoneyValuation}')) "
   ]
  },
  {
   "cell_type": "markdown",
   "metadata": {},
   "source": [
    "### Question 5.1b: \n",
    "How many shares of XL stock will Meg acquire at the time of conversion of her convertible note?  \n",
    "This remains unchanged"
   ]
  },
  {
   "cell_type": "markdown",
   "metadata": {},
   "source": [
    "$VI_{Meg}=I_{0}\\times(1+InterestRate)^{N}$ \n",
    "\n",
    "$\\%Ownership=\\frac{VI_{Meg}}{Post Money Valuation} \\text{ or } \\frac{VI_{Meg}}{Post Money Valuation Cap}$\n",
    "\n",
    "$(Post-Money Valuation)_{Note}=(Pre-Money Valuationn)_{Series A}\\times(1-Discount)$\n",
    "\n",
    "$Meg New Shares=\\frac{\\%Ownership_{Meg}}{1-\\%Ownership_{Meg}}*\\text{Series A Shares}$\n",
    "\n",
    "$\\frac{Price}{share}=\\frac{\\text{Meg Initial Investment}}{\\text{Meg New Shares}}$\n",
    "\n",
    "We will use the Post Money Valuation Cap to determine Meg's  percent ownership because series A passed the valuation cap"
   ]
  },
  {
   "cell_type": "code",
   "execution_count": 54,
   "metadata": {},
   "outputs": [
    {
     "data": {
      "text/markdown": [
       "Meg initial investment= 300000"
      ],
      "text/plain": [
       "<IPython.core.display.Markdown object>"
      ]
     },
     "metadata": {},
     "output_type": "display_data"
    },
    {
     "data": {
      "text/markdown": [
       "Meg Investment after interest= 337080.00000000006"
      ],
      "text/plain": [
       "<IPython.core.display.Markdown object>"
      ]
     },
     "metadata": {},
     "output_type": "display_data"
    },
    {
     "data": {
      "text/markdown": [
       "Convertible note valuation= 2147950.61728395"
      ],
      "text/plain": [
       "<IPython.core.display.Markdown object>"
      ]
     },
     "metadata": {},
     "output_type": "display_data"
    },
    {
     "data": {
      "text/markdown": [
       "Meg Ownership = 0.1569309821592791"
      ],
      "text/plain": [
       "<IPython.core.display.Markdown object>"
      ]
     },
     "metadata": {},
     "output_type": "display_data"
    },
    {
     "data": {
      "text/markdown": [
       "Meg Shares = 186142.5089030228"
      ],
      "text/plain": [
       "<IPython.core.display.Markdown object>"
      ]
     },
     "metadata": {},
     "output_type": "display_data"
    },
    {
     "data": {
      "text/markdown": [
       "Meg Price per Share = 1.6116684027091044"
      ],
      "text/plain": [
       "<IPython.core.display.Markdown object>"
      ]
     },
     "metadata": {},
     "output_type": "display_data"
    }
   ],
   "source": [
    "MegInvestment=300000\n",
    "ConvertibleNoteInterest=0.06\n",
    "ConvertibleYears=2\n",
    "ConvertibleNoteCap=6000000\n",
    "VIMeg=MegInvestment*(1+ConvertibleNoteInterest)**ConvertibleYears\n",
    "\n",
    "ConvertibleDiscount=0.20\n",
    "ConvertibleNoteValuation=SeriesAPreMoneyValuation*(1-ConvertibleDiscount)\n",
    "MegOwnerShip=VIMeg/ConvertibleNoteValuation\n",
    "MegShares=(MegOwnerShip/(1-MegOwnerShip))*(1000000)\n",
    "MegPrice_Share=MegInvestment/MegShares\n",
    "display(Markdown(r'Meg initial investment= ' +rf'{MegInvestment}')) \n",
    "display(Markdown(r'Meg Investment after interest= ' +rf'{VIMeg}')) \n",
    "display(Markdown(r'Convertible note valuation= ' +rf'{ConvertibleNoteValuation}'))\n",
    "display(Markdown(r'Meg Ownership = ' +rf'{MegOwnerShip}')) \n",
    "display(Markdown(r'Meg Shares = ' +rf'{MegShares}')) \n",
    "display(Markdown(r'Meg Price per Share = ' +rf'{MegPrice_Share}')) \n"
   ]
  },
  {
   "cell_type": "markdown",
   "metadata": {},
   "source": [
    "Does the valuation cap on the convertible note affect the number of shares Meg acquires?  Explain. \\\n",
    "It does not come into play because the premoney valuation is less than 6 million."
   ]
  },
  {
   "cell_type": "markdown",
   "metadata": {},
   "source": [
    "### Question #5.1c.  \n",
    "What  \\%  of  the  company  must  Timberlake  acquire  in  April  2023  if  they  fund  the  full  $7,500,000 Series B round?  \n"
   ]
  },
  {
   "cell_type": "markdown",
   "metadata": {},
   "source": [
    "Series B:\n",
    "\n",
    "$VI_{N}=I_{0}\\times(1+ROI)^{N}$"
   ]
  },
  {
   "cell_type": "code",
   "execution_count": 55,
   "metadata": {
    "scrolled": true
   },
   "outputs": [
    {
     "data": {
      "text/markdown": [
       "Series B $VI_{N}$= $28811999.999999993"
      ],
      "text/plain": [
       "<IPython.core.display.Markdown object>"
      ]
     },
     "metadata": {},
     "output_type": "display_data"
    }
   ],
   "source": [
    "TimbFundSeriesB=7500000\n",
    "ROI=0.4\n",
    "VINB=TimbFundSeriesB*((1+ROI)**4)\n",
    "display(Markdown(r'Series B $VI_{N}$= $'+rf'{VINB}'))\n"
   ]
  },
  {
   "cell_type": "code",
   "execution_count": 56,
   "metadata": {},
   "outputs": [
    {
     "data": {
      "text/markdown": [
       "Series B Timberlake $\\%Ownership_{B}$= 38.41599999999999%"
      ],
      "text/plain": [
       "<IPython.core.display.Markdown object>"
      ]
     },
     "metadata": {},
     "output_type": "display_data"
    }
   ],
   "source": [
    "TimbOwnershipB=VINB/VN\n",
    "display(Markdown(r'Series B Timberlake $\\%Ownership_{B}$= ' +rf'{TimbOwnershipB*100}'+r'%'))"
   ]
  },
  {
   "cell_type": "markdown",
   "metadata": {},
   "source": [
    "How many new shares of XL stock should they acquire?  "
   ]
  },
  {
   "cell_type": "markdown",
   "metadata": {},
   "source": [
    "$\\text{New Shares} _{seriesA}=\\frac{\\%Ownership_{seriesARetention}}{1-\\%Ownership_{seriesARetention}}\\times(\\text{original shares}+\\text{angel investor shares})$\n",
    "$\\text{New Shares} _{seriesB}=\\frac{\\%Ownership_{seriesBRetention}}{1-\\%Ownership_{seriesBRetention}}\\times(\\text{original shares}+\\text{angel investor shares}+\\text{New Shares} _{seriesA})$\n",
    "$\\text{New Shares} _{seriesC}=\\frac{\\%Ownership_{seriesCRetention}}{1-\\%Ownership_{seriesCRetention}}\\times(\\text{original shares}+\\text{angel investor shares}+\\text{New Shares} _{seriesA}+\\text{New Shares} _{seriesB})$"
   ]
  },
  {
   "cell_type": "code",
   "execution_count": 57,
   "metadata": {},
   "outputs": [
    {
     "data": {
      "text/markdown": [
       "New Shares Series A=1325329.3620720736"
      ],
      "text/plain": [
       "<IPython.core.display.Markdown object>"
      ]
     },
     "metadata": {},
     "output_type": "display_data"
    },
    {
     "data": {
      "text/markdown": [
       "New Shares Series B=2147961.5158672063"
      ],
      "text/plain": [
       "<IPython.core.display.Markdown object>"
      ]
     },
     "metadata": {},
     "output_type": "display_data"
    },
    {
     "data": {
      "text/markdown": [
       "New Shares Series C=93188.66773684607"
      ],
      "text/plain": [
       "<IPython.core.display.Markdown object>"
      ]
     },
     "metadata": {},
     "output_type": "display_data"
    }
   ],
   "source": [
    "NewSharesA=(RetentionTimbOwnershipA/(1-RetentionTimbOwnershipA))*(originalshares+ MegShares)\n",
    "NewSharesB=(RetentionTimbOwnershipB/(1-RetentionTimbOwnershipB))*(originalshares+ MegShares+NewSharesA)\n",
    "NewSharesC=(RetentionTimbOwnershipC/(1-RetentionTimbOwnershipC))*(originalshares+ MegShares+NewSharesA+NewSharesB)\n",
    "display(Markdown(r'New Shares Series A='+rf'{NewSharesA}'))\n",
    "display(Markdown(r'New Shares Series B='+rf'{NewSharesB}'))\n",
    "display(Markdown(r'New Shares Series C='+rf'{NewSharesC}'))"
   ]
  },
  {
   "cell_type": "markdown",
   "metadata": {},
   "source": [
    "Series B price per share\n",
    "and Post money Valuation"
   ]
  },
  {
   "cell_type": "code",
   "execution_count": 58,
   "metadata": {},
   "outputs": [
    {
     "data": {
      "text/markdown": [
       "Price per share series B=3.4916826696366536"
      ],
      "text/plain": [
       "<IPython.core.display.Markdown object>"
      ]
     },
     "metadata": {},
     "output_type": "display_data"
    },
    {
     "data": {
      "text/markdown": [
       "Series B Valuation=16269262.807163686"
      ],
      "text/plain": [
       "<IPython.core.display.Markdown object>"
      ]
     },
     "metadata": {},
     "output_type": "display_data"
    }
   ],
   "source": [
    "\n",
    "SeriesBPrice_Share=TimbFundSeriesB/NewSharesB\n",
    "SeriesBValuation=TimbFundSeriesB/RetentionTimbOwnershipB\n",
    "display(Markdown(r'Price per share series B='+rf'{SeriesBPrice_Share}'))\n",
    "display(Markdown(r'Series B Valuation='+rf'{SeriesBValuation}'))"
   ]
  },
  {
   "cell_type": "markdown",
   "metadata": {},
   "source": [
    "Series C price per share\n",
    "and Post money Valuation"
   ]
  },
  {
   "cell_type": "code",
   "execution_count": 59,
   "metadata": {},
   "outputs": [
    {
     "data": {
      "text/markdown": [
       "Price per share series C=10.73091851494093"
      ],
      "text/plain": [
       "<IPython.core.display.Markdown object>"
      ]
     },
     "metadata": {},
     "output_type": "display_data"
    },
    {
     "data": {
      "text/markdown": [
       "Series C Valuation=51000000.0"
      ],
      "text/plain": [
       "<IPython.core.display.Markdown object>"
      ]
     },
     "metadata": {},
     "output_type": "display_data"
    },
    {
     "data": {
      "text/plain": [
       "1000000"
      ]
     },
     "metadata": {},
     "output_type": "display_data"
    },
    {
     "data": {
      "text/plain": [
       "93188.66773684607"
      ]
     },
     "metadata": {},
     "output_type": "display_data"
    }
   ],
   "source": [
    "\n",
    "SeriesCPrice_Share=TimbFundSeriesC/NewSharesC\n",
    "SeriesCValuation=TimbFundSeriesC/RetentionTimbOwnershipC\n",
    "display(Markdown(r'Price per share series C='+rf'{SeriesCPrice_Share}'))\n",
    "display(Markdown(r'Series C Valuation='+rf'{SeriesCValuation}'))\n",
    "display(TimbFundSeriesC)\n",
    "display(NewSharesC)"
   ]
  },
  {
   "cell_type": "markdown",
   "metadata": {},
   "source": [
    "### 5.2"
   ]
  },
  {
   "cell_type": "markdown",
   "metadata": {},
   "source": [
    "At  the  planned  “liquidity  event”  in  April  2026,  what  will  Ken’s  shares  in  XL  be  worth? \n"
   ]
  },
  {
   "cell_type": "markdown",
   "metadata": {},
   "source": [
    "Using  $\\frac{\\text(Value of Company)}{\\text{Total Number of Shares}}=\\frac{\\text{PR Ratio}\\times\\text{Revenue}}{\\text{Total Number of Shares}} \\times(1-\\text{Option Pools})\\newline \\& \\newline\n",
    "\\text{Initial Price per share}=\\frac{Investment}{\\#Shares}$"
   ]
  },
  {
   "cell_type": "code",
   "execution_count": 60,
   "metadata": {},
   "outputs": [
    {
     "data": {
      "text/markdown": [
       "Initial Price per share =0.06666666666666667"
      ],
      "text/plain": [
       "<IPython.core.display.Markdown object>"
      ]
     },
     "metadata": {},
     "output_type": "display_data"
    },
    {
     "data": {
      "text/markdown": [
       "Final Price per share =13.413648143676165"
      ],
      "text/plain": [
       "<IPython.core.display.Markdown object>"
      ]
     },
     "metadata": {},
     "output_type": "display_data"
    },
    {
     "data": {
      "text/markdown": [
       "Ken\\'s shares worth=10060236.107757123"
      ],
      "text/plain": [
       "<IPython.core.display.Markdown object>"
      ]
     },
     "metadata": {},
     "output_type": "display_data"
    }
   ],
   "source": [
    "KenShares=750000\n",
    "KenInvestment=50000\n",
    "initialPricePerShareKen=KenInvestment/KenShares\n",
    "finalPricepershare=(VN/(originalshares+MegShares+NewSharesA+NewSharesB+NewSharesC))*(1-StockOption)\n",
    "\n",
    "display(Markdown(r'Initial Price per share ='+rf'{initialPricePerShareKen}'))\n",
    "display(Markdown(r'Final Price per share ='+rf'{finalPricepershare}'))\n",
    "display(Markdown(r'Ken\\'s shares worth='+rf'{KenShares*finalPricepershare}'))"
   ]
  },
  {
   "cell_type": "markdown",
   "metadata": {},
   "source": [
    "What annual rate of return (compounded) on his original $50,000 investment does this represent?  "
   ]
  },
  {
   "cell_type": "markdown",
   "metadata": {},
   "source": [
    "$ROI=(\\frac{\\text{Price per share sold}}{\\text{Price per share purchased}})^{\\frac{1}{N}}$ -1 \\\n",
    "Where N is 7 because Ken bought in 2019 and sold in 2026"
   ]
  },
  {
   "cell_type": "code",
   "execution_count": 61,
   "metadata": {},
   "outputs": [
    {
     "data": {
      "text/markdown": [
       "Ken\\'s ROI=0.9406837578690641"
      ],
      "text/plain": [
       "<IPython.core.display.Markdown object>"
      ]
     },
     "metadata": {},
     "output_type": "display_data"
    }
   ],
   "source": [
    "N=8\n",
    "Ken_ROI=(finalPricepershare/initialPricePerShareKen)**(1/N)-1\n",
    "display(Markdown(r'Ken\\'s ROI='+rf'{Ken_ROI}'))"
   ]
  },
  {
   "cell_type": "markdown",
   "metadata": {},
   "source": [
    "What will Steve Moore’s shares be worth?  "
   ]
  },
  {
   "cell_type": "markdown",
   "metadata": {},
   "source": [
    "Steve's shares worth can be found with: $\\text{Steve Shares}\\times \\text{Final Share price}$"
   ]
  },
  {
   "cell_type": "code",
   "execution_count": 62,
   "metadata": {},
   "outputs": [
    {
     "data": {
      "text/markdown": [
       "Initial Price per share Steve=0.1"
      ],
      "text/plain": [
       "<IPython.core.display.Markdown object>"
      ]
     },
     "metadata": {},
     "output_type": "display_data"
    },
    {
     "data": {
      "text/markdown": [
       "Final Price per share =13.413648143676165"
      ],
      "text/plain": [
       "<IPython.core.display.Markdown object>"
      ]
     },
     "metadata": {},
     "output_type": "display_data"
    },
    {
     "data": {
      "text/markdown": [
       "Steve\\'s shares worth=3353412.035919041"
      ],
      "text/plain": [
       "<IPython.core.display.Markdown object>"
      ]
     },
     "metadata": {},
     "output_type": "display_data"
    }
   ],
   "source": [
    "SteveShares=250000\n",
    "SteveInvestment=25000\n",
    "initialPricePerShareSteve=SteveInvestment/SteveShares\n",
    "\n",
    "\n",
    "display(Markdown(r'Initial Price per share Steve='+rf'{initialPricePerShareSteve}'))\n",
    "display(Markdown(r'Final Price per share ='+rf'{finalPricepershare}'))\n",
    "display(Markdown(r'Steve\\'s shares worth='+rf'{SteveShares*finalPricepershare}'))"
   ]
  },
  {
   "cell_type": "markdown",
   "metadata": {},
   "source": [
    "Steve's ROI can be found with:\n",
    "$ROI=(\\frac{\\text{Price per share sold}}{\\text{Price per share purchased}})^{\\frac{1}{N}}$ -1 \\\n",
    "Where N is 7 because Steve also bought in 2019 and sold in 2027"
   ]
  },
  {
   "cell_type": "code",
   "execution_count": 63,
   "metadata": {},
   "outputs": [
    {
     "data": {
      "text/markdown": [
       "Steve\\'s ROI=0.8447748268465192"
      ],
      "text/plain": [
       "<IPython.core.display.Markdown object>"
      ]
     },
     "metadata": {},
     "output_type": "display_data"
    }
   ],
   "source": [
    "N=8\n",
    "Steve_ROI=(finalPricepershare/initialPricePerShareSteve)**(1/N)-1\n",
    "display(Markdown(r'Steve\\'s ROI='+rf'{Steve_ROI}'))"
   ]
  },
  {
   "cell_type": "markdown",
   "metadata": {},
   "source": [
    "Explain any difference between the rate of return earned by Ken and that earned by Steve. "
   ]
  },
  {
   "cell_type": "markdown",
   "metadata": {},
   "source": [
    "Ken got a better rate of return because he was able to have a lower price per share because he put in more money in the initial investment.\n"
   ]
  },
  {
   "cell_type": "markdown",
   "metadata": {},
   "source": [
    "Given this delay scenario, what compound annual rates of return are actually realized on the Series A, Series B and Series C rounds of investment?    "
   ]
  },
  {
   "cell_type": "markdown",
   "metadata": {},
   "source": [
    "$ROI_{SeriesA}=(\\frac{\\text{Final Price per Share}_{series A}}{\\text{Price Purchased}_{seriesA}})^{N_{seriesA}} -1$ \n",
    "\n",
    "$ROI_{SeriesB}=(\\frac{\\text{Final Price per Share}_{series B}}{\\text{Price Purchased}_{seriesB}})^{N_{seriesB}} -1$\n",
    "\n",
    "$ROI_{SeriesC}=(\\frac{\\text{Final Price per Share}_{series C}}{\\text{Price Purchased}_{seriesC}})^{N_{seriesC}} -1$\n",
    "\n",
    "using these values and the adjusted N for the later liquidity event gives the following as their actual returns:"
   ]
  },
  {
   "cell_type": "code",
   "execution_count": 64,
   "metadata": {},
   "outputs": [
    {
     "data": {
      "text/markdown": [
       "Series A actual ROI=0.3074811432526503"
      ],
      "text/plain": [
       "<IPython.core.display.Markdown object>"
      ]
     },
     "metadata": {},
     "output_type": "display_data"
    },
    {
     "data": {
      "text/markdown": [
       "Series B  actual ROI=0.3999999999999999"
      ],
      "text/plain": [
       "<IPython.core.display.Markdown object>"
      ]
     },
     "metadata": {},
     "output_type": "display_data"
    },
    {
     "data": {
      "text/markdown": [
       "Series C actual ROI=0.2500000000000002"
      ],
      "text/plain": [
       "<IPython.core.display.Markdown object>"
      ]
     },
     "metadata": {},
     "output_type": "display_data"
    }
   ],
   "source": [
    "SeriesA_ROI=(finalPricepershare/SeriesAPrice_Share)**(1/6)-1\n",
    "SeriesB_ROI=(finalPricepershare/SeriesBPrice_Share)**(1/4)-1\n",
    "SeriesC_ROI=(finalPricepershare/SeriesCPrice_Share)**(1/1)-1\n",
    "\n",
    "display(Markdown(r'Series A actual ROI='+rf'{SeriesA_ROI}'))\n",
    "display(Markdown(r'Series B  actual ROI='+rf'{SeriesB_ROI}'))\n",
    "display(Markdown(r'Series C actual ROI='+rf'{SeriesC_ROI}'))\n"
   ]
  },
  {
   "cell_type": "markdown",
   "metadata": {},
   "source": [
    "All in all the series A investment and Meg's investment does not change, but the actual ROI for series A funding is reduced substantially due to uncompensated dilution. Series B and series C funding is changed to compensate for these dilution changes so the actual ROI for series B and series C funding remains close to expectation."
   ]
  },
  {
   "cell_type": "markdown",
   "metadata": {},
   "source": [
    "# Question 6"
   ]
  },
  {
   "cell_type": "markdown",
   "metadata": {},
   "source": [
    "During the Series B term sheet negotiations, it is agreed that Timberlake will receive convertible preferred stock in return for its Series B investment (the founders’ shares, Meg’s shares, the Series A shares and the option pool shares are common stock).  The difference here between common and preferred  shares  is  that  preferred  shareholders  receive  a  fixed  annual  dividend  payment  equal  to  a  prescribed percentage of their original investment.  In this case, Timberlake negotiates for a cumulative non-cash non-compounding dividend of 11% per annum.  At the time of the liquidity event in 2026, each preferred  share  is  convertible  into  one  new  XL  common  share  and  the  accumulated  dividends  are  convertible into new XL common shares at the original price per share paid by the Timberlake for its Series B shares. Timberlake  priced  the  XL  deal  assuming  that  it  received  non-dividend  bearing  common  stock  (i.e.,  the  same  assumptions  used  for  Question  #4,  above).  Note:  the  option  pool  equals  15%  of  the  company,  including the new converted dividend shares, at the time of the liquidity event in April 2026.   Note: the option pool equals 15% of the company, including the new converted dividend shares, at the time of the liquidity event in April 2026. What will be the VC’s actual annual rate of return on their Series B investment as a result of using this type of preferred stock? What is the effect on the rate of return realized by Timberlake on its Series A investment? What effect does the use of preferred stock in Series B have on the amount of cash distributed to the founders and to Meg? (In answering this question, ignore the delay scenario of Question #5).\n"
   ]
  },
  {
   "cell_type": "markdown",
   "metadata": {},
   "source": [
    "- Timberlake recieves convertible prefferred stock\n",
    "    - 11% per annum dividend of original investment non compounding\n",
    "- At 2026 preferred share is convertible to one new XL common share \n",
    "- dividends are convertible into new XL common shares at original price per share for series B\n",
    "- Stock Pool of 15% includes everything at liquidity"
   ]
  },
  {
   "cell_type": "markdown",
   "metadata": {},
   "source": [
    "What will be the VC’s actual annual rate of return on their Series B investment as a result of using this type of preferred stock?  \n",
    "\n",
    "The convertible stock has a 11% per annum non compounding dividend payment, so they will recieve:\n",
    "\n",
    "$Distribution=(\\text{SeriesB Investment})\\times (\\text{Non Compounding interest} )\\times(\\text{Years from series B to liquidity})$\n",
    "\n",
    "\n",
    "\n",
    "Using these equations gives :"
   ]
  },
  {
   "cell_type": "code",
   "execution_count": 65,
   "metadata": {},
   "outputs": [
    {
     "data": {
      "text/markdown": [
       "Total distribution from non compounding interest=2475000.0"
      ],
      "text/plain": [
       "<IPython.core.display.Markdown object>"
      ]
     },
     "metadata": {},
     "output_type": "display_data"
    }
   ],
   "source": [
    "NonCompoundInterest=0.11\n",
    "N=3\n",
    "Distribution=TimbFundSeriesB*NonCompoundInterest*N\n",
    "Distribution_ROI=(Distribution/TimbFundSeriesB)**(1/N)-1\n",
    "display(Markdown(r'Total distribution from non compounding interest='+rf'{Distribution}'))\n",
    "\n"
   ]
  },
  {
   "cell_type": "markdown",
   "metadata": {},
   "source": [
    "They then turn this total didtribution into XL stock using the original series B price per share derivation from question 4 we get:"
   ]
  },
  {
   "cell_type": "markdown",
   "metadata": {},
   "source": [
    "Series A:\n",
    "\n",
    "$VI_{N}=I_{0}\\times(1+ROI)^{N}$"
   ]
  },
  {
   "cell_type": "code",
   "execution_count": 66,
   "metadata": {},
   "outputs": [
    {
     "data": {
      "text/markdown": [
       "Series A $VI_{N}$= $22781250.0"
      ],
      "text/plain": [
       "<IPython.core.display.Markdown object>"
      ]
     },
     "metadata": {},
     "output_type": "display_data"
    }
   ],
   "source": [
    "TimbFundSeriesA=3000000\n",
    "ROI=0.5\n",
    "VINA=TimbFundSeriesA*((1+ROI)**5)\n",
    "display(Markdown(r'Series A $VI_{N}$= $'+rf'{VINA}'))\n"
   ]
  },
  {
   "cell_type": "markdown",
   "metadata": {},
   "source": [
    " Timberlake Ownership in series A is found by $\\%Ownership_{A}$=\n",
    "$\\frac{VI_{N}}{\\text{Terminal Value}}$"
   ]
  },
  {
   "cell_type": "code",
   "execution_count": 67,
   "metadata": {},
   "outputs": [
    {
     "data": {
      "text/markdown": [
       "Series A Timberlak $\\%Ownership_{A}$= 30.375000000000004%"
      ],
      "text/plain": [
       "<IPython.core.display.Markdown object>"
      ]
     },
     "metadata": {},
     "output_type": "display_data"
    }
   ],
   "source": [
    "TimbOwnershipA=VINA/VN\n",
    "display(Markdown(r'Series A Timberlak $\\%Ownership_{A}$= ' +rf'{TimbOwnershipA*100}'+r'%'))"
   ]
  },
  {
   "cell_type": "markdown",
   "metadata": {},
   "source": [
    "Series B:\n",
    "\n",
    "$VI_{N}=I_{0}\\times(1+ROI)^{N}$"
   ]
  },
  {
   "cell_type": "code",
   "execution_count": 68,
   "metadata": {
    "scrolled": true
   },
   "outputs": [
    {
     "data": {
      "text/markdown": [
       "Series B $VI_{N}$= $20579999.999999996"
      ],
      "text/plain": [
       "<IPython.core.display.Markdown object>"
      ]
     },
     "metadata": {},
     "output_type": "display_data"
    }
   ],
   "source": [
    "TimbFundSeriesB=7500000\n",
    "ROI=0.4\n",
    "VINB=TimbFundSeriesB*((1+ROI)**3)\n",
    "display(Markdown(r'Series B $VI_{N}$= $'+rf'{VINB}'))\n"
   ]
  },
  {
   "cell_type": "code",
   "execution_count": 69,
   "metadata": {},
   "outputs": [
    {
     "data": {
      "text/markdown": [
       "Series B Timberlak $\\%Ownership_{B}$= 27.439999999999998%"
      ],
      "text/plain": [
       "<IPython.core.display.Markdown object>"
      ]
     },
     "metadata": {},
     "output_type": "display_data"
    }
   ],
   "source": [
    "TimbOwnershipB=VINB/VN\n",
    "display(Markdown(r'Series B Timberlak $\\%Ownership_{B}$= ' +rf'{TimbOwnershipB*100}'+r'%'))"
   ]
  },
  {
   "cell_type": "markdown",
   "metadata": {},
   "source": [
    "Percent Acquired in Series A round \n",
    "\n",
    "$\\%Acquired_{A}=\\frac{Ownership_{A}}{Retention}=\n",
    "\\frac{Ownership_{A}}{1-Acquired_{B}-\\text{Stock Options}}$\n",
    "\n",
    "Percent Acquired in series B\n",
    "\n",
    "$\\%Acquired_{B}=\\frac{Ownership_{B}}{Retention}=\n",
    "\\frac{Ownership_{B}}{1-\\text{Stock Options}}$"
   ]
  },
  {
   "cell_type": "code",
   "execution_count": 70,
   "metadata": {},
   "outputs": [
    {
     "data": {
      "text/markdown": [
       "Series A Retention Timberlake $\\%Ownership_{A}$= 52.77102154273802%"
      ],
      "text/plain": [
       "<IPython.core.display.Markdown object>"
      ]
     },
     "metadata": {},
     "output_type": "display_data"
    },
    {
     "data": {
      "text/markdown": [
       "Series B Retention Timberlake $\\%Ownership_{B}$= 32.28235294117647%"
      ],
      "text/plain": [
       "<IPython.core.display.Markdown object>"
      ]
     },
     "metadata": {},
     "output_type": "display_data"
    }
   ],
   "source": [
    "StockOption=0.15\n",
    "RetentionTimbOwnershipA=TimbOwnershipA/(1-TimbOwnershipB-StockOption)\n",
    "RetentionTimbOwnershipB=TimbOwnershipB/(1-StockOption)\n",
    "display(Markdown(r'Series A Retention Timberlake $\\%Ownership_{A}$= ' +rf'{RetentionTimbOwnershipA*100}'+r'%'))\n",
    "display(Markdown(r'Series B Retention Timberlake $\\%Ownership_{B}$= ' +rf'{RetentionTimbOwnershipB*100}'+r'%'))\n"
   ]
  },
  {
   "cell_type": "markdown",
   "metadata": {},
   "source": [
    "How many new shares of XL stock should they acquire?  "
   ]
  },
  {
   "cell_type": "markdown",
   "metadata": {},
   "source": [
    "$\\text{New Shares} _{seriesA}=\\frac{\\%Ownership_{seriesARetention}}{1-\\%Ownership_{seriesARetention}}\\times(\\text{original shares}+\\text{angel investor shares})$\n",
    "$\\text{New Shares} _{seriesB}=\\frac{\\%Ownership_{seriesBRetention}}{1-\\%Ownership_{seriesBRetention}}\\times(\\text{original shares}+\\text{angel investor shares}+\\text{New Shares} _{seriesA})$"
   ]
  },
  {
   "cell_type": "code",
   "execution_count": 71,
   "metadata": {},
   "outputs": [
    {
     "data": {
      "text/markdown": [
       "New Shares Series A=1325329.3620720736"
      ],
      "text/plain": [
       "<IPython.core.display.Markdown object>"
      ]
     },
     "metadata": {},
     "output_type": "display_data"
    },
    {
     "data": {
      "text/markdown": [
       "New Shares Series B=1197268.7307080724"
      ],
      "text/plain": [
       "<IPython.core.display.Markdown object>"
      ]
     },
     "metadata": {},
     "output_type": "display_data"
    }
   ],
   "source": [
    "NewSharesA=(RetentionTimbOwnershipA/(1-RetentionTimbOwnershipA))*(originalshares+ MegShares)\n",
    "NewSharesB=(RetentionTimbOwnershipB/(1-RetentionTimbOwnershipB))*(originalshares+ MegShares+NewSharesA)\n",
    "display(Markdown(r'New Shares Series A='+rf'{NewSharesA}'))\n",
    "display(Markdown(r'New Shares Series B='+rf'{NewSharesB}'))\n"
   ]
  },
  {
   "cell_type": "markdown",
   "metadata": {},
   "source": [
    "Series B price per share\n",
    "and Post money Valuation"
   ]
  },
  {
   "cell_type": "code",
   "execution_count": 72,
   "metadata": {},
   "outputs": [
    {
     "data": {
      "text/markdown": [
       "Price per share series B=6.264257812499999"
      ],
      "text/plain": [
       "<IPython.core.display.Markdown object>"
      ]
     },
     "metadata": {},
     "output_type": "display_data"
    },
    {
     "data": {
      "text/markdown": [
       "Series B Valuation=23232507.28862974"
      ],
      "text/plain": [
       "<IPython.core.display.Markdown object>"
      ]
     },
     "metadata": {},
     "output_type": "display_data"
    }
   ],
   "source": [
    "\n",
    "SeriesBPrice_Share=TimbFundSeriesB/NewSharesB\n",
    "SeriesBValuation=TimbFundSeriesB/RetentionTimbOwnershipB\n",
    "display(Markdown(r'Price per share series B='+rf'{SeriesBPrice_Share}'))\n",
    "display(Markdown(r'Series B Valuation='+rf'{SeriesBValuation}'))"
   ]
  },
  {
   "cell_type": "markdown",
   "metadata": {},
   "source": [
    "We can then use the price per share at series B to calculate how maney shares they get for the dividend payout. With:\n",
    "$\\text{New XL Shares}=\\frac{\\text{Total Dividend}}{\\text{Price per share SeriesB}}$"
   ]
  },
  {
   "cell_type": "code",
   "execution_count": 73,
   "metadata": {},
   "outputs": [
    {
     "data": {
      "text/markdown": [
       "New shares from dividend payout=395098.6811336639"
      ],
      "text/plain": [
       "<IPython.core.display.Markdown object>"
      ]
     },
     "metadata": {},
     "output_type": "display_data"
    }
   ],
   "source": [
    "DividendShares=Distribution/SeriesBPrice_Share\n",
    "display(Markdown(r'New shares from dividend payout='+rf'{DividendShares}'))"
   ]
  },
  {
   "cell_type": "markdown",
   "metadata": {},
   "source": [
    "The roi can be found by adjusting the price per share from series B to accomdate the number of dividend shares they recieved\n",
    "\n",
    "$\\text{Price per Share}_{\\text{Including dividend shares}}=\\frac{\\text{Initial series B investment}}{Dividend Shares +Series B shares}$\n",
    "\n",
    "\n",
    "$ROI_{\\text{SeriesB Dividend}}=(\\frac{\\text{Final Price per Share}}{\\text{Price per Share}_{\\text{Including dividend shares}}})^{\\frac{1}{N_{seriesB}}} -1$\n",
    "\n",
    "final price per share also changes to be:\n",
    "$\\text{Final Price per Share}_{\\text{Including dividend shares}}=\\frac{\\text{Terminal Value}}{\\text{Dividend Shares} +\\text{Series B}+\\text{shares} +\\text{seriesA}}$"
   ]
  },
  {
   "cell_type": "code",
   "execution_count": 74,
   "metadata": {},
   "outputs": [
    {
     "data": {
      "text/markdown": [
       "Final Price per share including stock options =15.534234068796831"
      ],
      "text/plain": [
       "<IPython.core.display.Markdown object>"
      ]
     },
     "metadata": {},
     "output_type": "display_data"
    }
   ],
   "source": [
    "finalPricepershare=(VN/(originalshares+MegShares+NewSharesA+NewSharesB+DividendShares))*(1-StockOption)\n",
    "\n",
    "\n",
    "display(Markdown(r'Final Price per share including stock options ='+rf'{finalPricepershare}'))\n",
    "\n"
   ]
  },
  {
   "cell_type": "code",
   "execution_count": 75,
   "metadata": {},
   "outputs": [
    {
     "data": {
      "text/markdown": [
       "Dividend actual ROI=0.48852895667172835"
      ],
      "text/plain": [
       "<IPython.core.display.Markdown object>"
      ]
     },
     "metadata": {},
     "output_type": "display_data"
    }
   ],
   "source": [
    "SeriesBPrice_Share_dividend=TimbFundSeriesB/(NewSharesB+DividendShares)\n",
    "Dividend_ROI_SeriesB=(finalPricepershare/SeriesBPrice_Share_dividend)**(1/3)-1\n",
    "display(Markdown(r'Dividend actual ROI='+rf'{Dividend_ROI_SeriesB}'))\n"
   ]
  },
  {
   "cell_type": "markdown",
   "metadata": {},
   "source": [
    "What is the effect on the rate of return realized by Timberlake on its Series A investment? "
   ]
  },
  {
   "cell_type": "markdown",
   "metadata": {},
   "source": [
    "\n",
    "$ROI_{\\text{SeriesA}}=(\\frac{\\text{Final Price per Share}}{\\text{Price per Share}_{\\text{Series A}}})^{\\frac{1}{N_{seriesA}}} -1$\n"
   ]
  },
  {
   "cell_type": "markdown",
   "metadata": {},
   "source": [
    "Using $\\frac{Price}{share}=\\frac{Investment}{Shares Series A}$ to get the price per share for series A we get :"
   ]
  },
  {
   "cell_type": "code",
   "execution_count": 76,
   "metadata": {},
   "outputs": [
    {
     "data": {
      "text/markdown": [
       "Price per share series A=2.263588271604938"
      ],
      "text/plain": [
       "<IPython.core.display.Markdown object>"
      ]
     },
     "metadata": {},
     "output_type": "display_data"
    },
    {
     "data": {
      "text/markdown": [
       "Series A Valuation=5684938.2716049375"
      ],
      "text/plain": [
       "<IPython.core.display.Markdown object>"
      ]
     },
     "metadata": {},
     "output_type": "display_data"
    }
   ],
   "source": [
    "SeriesAPrice_Sharedividend=TimbFundSeriesA/NewSharesA\n",
    "SeriesAValuation=TimbFundSeriesA/RetentionTimbOwnershipA\n",
    "display(Markdown(r'Price per share series A='+rf'{SeriesAPrice_Sharedividend}'))\n",
    "display(Markdown(r'Series A Valuation='+rf'{SeriesAValuation}'))"
   ]
  },
  {
   "cell_type": "markdown",
   "metadata": {},
   "source": [
    "Using the price per share from Series and the final price pershare we can calculate the ROI for series A"
   ]
  },
  {
   "cell_type": "code",
   "execution_count": 77,
   "metadata": {},
   "outputs": [
    {
     "data": {
      "text/markdown": [
       "Dividend actual ROI for series A=0.4699361884262656"
      ],
      "text/plain": [
       "<IPython.core.display.Markdown object>"
      ]
     },
     "metadata": {},
     "output_type": "display_data"
    }
   ],
   "source": [
    "Dividend_ROI_SeriesA=(finalPricepershare/SeriesAPrice_Sharedividend)**(1/5)-1\n",
    "display(Markdown(r'Dividend actual ROI for series A='+rf'{Dividend_ROI_SeriesA}'))\n",
    "\n"
   ]
  },
  {
   "cell_type": "markdown",
   "metadata": {},
   "source": [
    "What effect does the use of preferred stock in Series B have on the amount of cash distributed to the founders and to Meg?  (Ignore the delay scenario). "
   ]
  },
  {
   "cell_type": "markdown",
   "metadata": {},
   "source": [
    "The preffered stock dillutes the cash payment of meg and the founders because it decreases the final price per share value due to the increase of shares as a result of the dividend payment. This decrease in the price per share value results in Meg and the founders recieving less cash."
   ]
  },
  {
   "cell_type": "markdown",
   "metadata": {},
   "source": [
    "# Question 7.   \n",
    "\n",
    "During Timberlake’s Series B term sheet negotiations, they proposed using a hybrid security called participating  preferred  stock  for  its  Series  B  investment.  This  security  is  like  the  convertible  preferred stock described above, but it has an additional benefit in that, at conversion (i.e., at the liquidity event in 2026), the entire original Series B investment is also repaid to the shareholder in cash prior to any other  cash  distributions. Ken  rejects  this  proposal.    Note:  the  option  pool  equals  15%  of  the  company,  including the new converted dividend shares, at the time of the liquidity event in April 2026. \n"
   ]
  },
  {
   "cell_type": "markdown",
   "metadata": {},
   "source": [
    "What compound annual rate of return would Timberlake have realized on its Series B investment as a result of using participating preferred stock? "
   ]
  },
  {
   "cell_type": "code",
   "execution_count": null,
   "metadata": {},
   "outputs": [],
   "source": []
  },
  {
   "cell_type": "markdown",
   "metadata": {},
   "source": [
    "What compound annual rate of return would the use of participating preferred stock for Series B have had on the rate of return realized on Timberlake’s Series A investment which would not be participating preferred?"
   ]
  },
  {
   "cell_type": "code",
   "execution_count": null,
   "metadata": {},
   "outputs": [],
   "source": []
  },
  {
   "cell_type": "markdown",
   "metadata": {},
   "source": [
    " What will be the cash distributions under this proposal to the founders and to Meg? (In answering this question, ignore the delay scenario of Question #5)."
   ]
  },
  {
   "cell_type": "code",
   "execution_count": null,
   "metadata": {},
   "outputs": [],
   "source": []
  }
 ],
 "metadata": {
  "kernelspec": {
   "display_name": "Python 3",
   "language": "python",
   "name": "python3"
  },
  "language_info": {
   "codemirror_mode": {
    "name": "ipython",
    "version": 3
   },
   "file_extension": ".py",
   "mimetype": "text/x-python",
   "name": "python",
   "nbconvert_exporter": "python",
   "pygments_lexer": "ipython3",
   "version": "3.7.7"
  }
 },
 "nbformat": 4,
 "nbformat_minor": 4
}
